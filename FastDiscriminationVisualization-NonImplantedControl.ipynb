{
 "cells": [
  {
   "cell_type": "code",
   "execution_count": 1,
   "metadata": {},
   "outputs": [],
   "source": [
    "# imports\n",
    "import numpy as np\n",
    "import os\n",
    "from skimage.measure import label, regionprops\n",
    "from skimage.draw import line, set_color, circle, circle_perimeter\n",
    "import skvideo.io\n",
    "import imageio\n",
    "import operator\n",
    "import math\n",
    "import cv2\n",
    "import pandas as pd\n",
    "\n",
    "import time\n",
    "\n",
    "import warnings\n",
    "warnings.simplefilter(\"ignore\", UserWarning)\n",
    "import nelpy as nel  \n",
    "import nelpy.plotting as npl\n",
    "import matplotlib.pyplot as plt\n",
    "import matplotlib as mpl\n",
    "from tqdm.notebook import tqdm as tqdm"
   ]
  },
  {
   "cell_type": "markdown",
   "metadata": {},
   "source": [
    "## Homography"
   ]
  },
  {
   "cell_type": "code",
   "execution_count": 2,
   "metadata": {},
   "outputs": [],
   "source": [
    "streakerDay0 = [[474, 424], [106, 414], [474, 60], [127, 51]]\n",
    "streakerDay1 = [[128, 438], [499, 82], [498, 444], [147, 70]]\n",
    "streakerDay2 = [[102, 67], [89, 430], [458, 435], [451, 70]]\n",
    "streakerDay3 = [[106, 73], [475, 426], [456, 63], [105, 436]]\n",
    "\n",
    "squeakerDay0 = [[108, 412], [128, 54], [474, 62], [474, 425]]\n",
    "squeakerDay1 = [[130, 435], [497, 446], [498, 84], [148, 72]]\n",
    "squeakerDay2 = [[91, 428], [103, 71], [455, 432], [452, 70]]\n",
    "squeakerDay3 = [[478, 426], [107, 435], [456, 63], [107, 73]]\n",
    "\n",
    "islandDay1 = [(107, 408), (130, 48), (474, 416), (477, 59)]\n",
    "islandDay2 = [(109, 409), (129, 51), (475, 419), (474, 58)]\n",
    "islandDay3 = [(128, 49), (107, 410), (475, 417), (475, 59)]\n",
    "islandDay4 = [(108, 408), (475, 58), (475, 417), (127, 49)]\n",
    "\n",
    "juneDay1 = [[106, 408], [474, 59], [475, 419], [127, 49]]\n",
    "juneDay2 = [[107, 408], [478, 420], [127, 47], [479, 57]]\n",
    "juneDay3 = [[475, 57], [476, 420], [108, 409], [126, 49]]\n",
    "juneDay4 = [[108, 410], [478, 420], [476, 57], [127, 47]]"
   ]
  },
  {
   "cell_type": "code",
   "execution_count": 3,
   "metadata": {},
   "outputs": [],
   "source": [
    "#Find homography\n",
    "source_pts = np.array(streakerDay0, dtype = 'float32') #pixels!\n",
    "dst_pts = np.array([[0, 0], [100, 0], [100, 100], [0, 100]], dtype = 'float32') #cm\n",
    "\n",
    "homography_matrix, _ = cv2.findHomography(source_pts, dst_pts, cv2.RANSAC, 5.0) #not sure what the 5.0 is really doing seems to work though\n",
    "# POINTMOO = np.array([[headPos[0,0],headPos[0,1]]],dtype = 'float32')\n",
    "# POINTMOO = np.array([POINTMOO])\n",
    "# dst_pt = cv2.perspectiveTransform(POINTMOO, homography_matrix)\n",
    "# print(dst_pt.squeeze())"
   ]
  },
  {
   "cell_type": "code",
   "execution_count": 4,
   "metadata": {},
   "outputs": [
    {
     "name": "stdout",
     "output_type": "stream",
     "text": [
      "Streaker Day 0\n",
      "fam session familiar location: [[360 135]]\n",
      "int frames: 292\n",
      "fam session novel location: [[364 333]]\n",
      "int frames: 666\n",
      "test session familiar location: [[388 151]]\n",
      "int frames: 627\n",
      "test session novel location: [[219 333]]\n",
      "int frames: 527\n"
     ]
    }
   ],
   "source": [
    "print(\"Streaker Day 0\")\n",
    "streakerfamday0 = np.load('/Users/jinjiang-macair/Desktop/DLC/InteractionFrameArrays/Streaker/Streakerfamday0.npz')\n",
    "streakertestday0 = np.load('/Users/jinjiang-macair/Desktop/DLC/InteractionFrameArrays/Streaker/Streakertestday0.npz')\n",
    "print('fam session familiar location:', streakerfamday0['obj1PosArray'])\n",
    "print('int frames:',streakerfamday0['obj1NumofIntFrames'])\n",
    "print('fam session novel location:',streakerfamday0['obj2PosArray'])\n",
    "print('int frames:', streakerfamday0['obj2NumofIntFrames'])\n",
    "\n",
    "print('test session familiar location:',streakertestday0['obj1PosArray'])\n",
    "print('int frames:', streakertestday0['obj1NumofIntFrames'])\n",
    "print('test session novel location:',streakertestday0['obj2PosArray'])\n",
    "print('int frames:', streakertestday0['obj2NumofIntFrames'])"
   ]
  },
  {
   "cell_type": "code",
   "execution_count": 5,
   "metadata": {},
   "outputs": [
    {
     "name": "stdout",
     "output_type": "stream",
     "text": [
      "Streaker Day 1\n",
      "fam session familiar location: [[388 333]]\n",
      "int frames: 2503\n",
      "fam session novel location: [[228 156]]\n",
      "int frames: 2443\n",
      "test session familiar location: [[411 367]]\n",
      "int frames: 802\n",
      "test session novel location: [[222 356]]\n",
      "int frames: 1393\n"
     ]
    }
   ],
   "source": [
    "print(\"Streaker Day 1\")\n",
    "streakerfamday1 = np.load('/Users/jinjiang-macair/Desktop/DLC/InteractionFrameArrays/Streaker/Streakerfamday1.npz')\n",
    "streakertestday1 = np.load('/Users/jinjiang-macair/Desktop/DLC/InteractionFrameArrays/Streaker/Streakertestday1.npz')\n",
    "print('fam session familiar location:', streakerfamday1['obj1PosArray'])\n",
    "print('int frames:',streakerfamday1['obj1NumofIntFrames'])\n",
    "print('fam session novel location:',streakerfamday1['obj2PosArray'])\n",
    "print('int frames:', streakerfamday1['obj2NumofIntFrames'])\n",
    "\n",
    "print('test session familiar location:',streakertestday1['obj1PosArray'])\n",
    "print('int frames:', streakertestday1['obj1NumofIntFrames'])\n",
    "print('test session novel location:',streakertestday1['obj2PosArray'])\n",
    "print('int frames:', streakertestday1['obj2NumofIntFrames'])"
   ]
  },
  {
   "cell_type": "code",
   "execution_count": 6,
   "metadata": {},
   "outputs": [
    {
     "name": "stdout",
     "output_type": "stream",
     "text": [
      "Streaker Day 2 Session 1\n",
      "fam session familiar location: [[191 134]]\n",
      "int frames: 521\n",
      "fam session novel location: [[188 351]]\n",
      "int frames: 3505\n",
      "test session familiar location: [[184 141]]\n",
      "int frames: 848\n",
      "test session novel location: [[369 352]]\n",
      "int frames: 438\n"
     ]
    }
   ],
   "source": [
    "print(\"Streaker Day 2 Session 1\")\n",
    "streakerfam1day2 = np.load('/Users/jinjiang-macair/Desktop/DLC/InteractionFrameArrays/Streaker/Streakerfam1day2.npz')\n",
    "streakertest1day2 = np.load('/Users/jinjiang-macair/Desktop/DLC/InteractionFrameArrays/Streaker/Streakertest1day2.npz')\n",
    "print('fam session familiar location:', streakerfam1day2['obj1PosArray'])\n",
    "print('int frames:',streakerfam1day2['obj1NumofIntFrames'])\n",
    "print('fam session novel location:',streakerfam1day2['obj2PosArray'])\n",
    "print('int frames:', streakerfam1day2['obj2NumofIntFrames'])\n",
    "\n",
    "print('test session familiar location:',streakertest1day2['obj1PosArray'])\n",
    "print('int frames:', streakertest1day2['obj1NumofIntFrames'])\n",
    "print('test session novel location:',streakertest1day2['obj2PosArray'])\n",
    "print('int frames:', streakertest1day2['obj2NumofIntFrames'])"
   ]
  },
  {
   "cell_type": "code",
   "execution_count": 7,
   "metadata": {
    "scrolled": true
   },
   "outputs": [
    {
     "name": "stdout",
     "output_type": "stream",
     "text": [
      "Streaker Day 2 Session 2\n",
      "fam session familiar location: [[163 361]]\n",
      "int frames: 1287\n",
      "fam session novel location: [[384 129]]\n",
      "int frames: 1538\n",
      "test session familiar location: [[164 359]]\n",
      "int frames: 1380\n",
      "test session novel location: [[172 124]]\n",
      "int frames: 497\n"
     ]
    }
   ],
   "source": [
    "print(\"Streaker Day 2 Session 2\")\n",
    "streakerfam2day2 = np.load('/Users/jinjiang-macair/Desktop/DLC/InteractionFrameArrays/Streaker/Streakerfam2day2.npz')\n",
    "streakertest2day2 = np.load('/Users/jinjiang-macair/Desktop/DLC/InteractionFrameArrays/Streaker/Streakertest2day2.npz')\n",
    "print('fam session familiar location:', streakerfam2day2['obj1PosArray'])\n",
    "print('int frames:', streakerfam2day2['obj1NumofIntFrames'])\n",
    "print('fam session novel location:',streakerfam2day2['obj2PosArray'])\n",
    "print('int frames:', streakerfam2day2['obj2NumofIntFrames'])\n",
    "\n",
    "print('test session familiar location:',streakertest2day2['obj1PosArray'])\n",
    "print('int frames:', streakertest2day2['obj1NumofIntFrames'])\n",
    "print('test session novel location:',streakertest2day2['obj2PosArray'])\n",
    "print('int frames:', streakertest2day2['obj2NumofIntFrames'])"
   ]
  },
  {
   "cell_type": "code",
   "execution_count": 8,
   "metadata": {},
   "outputs": [
    {
     "name": "stdout",
     "output_type": "stream",
     "text": [
      "Streaker Day 3 Session 1\n",
      "fam session familiar location: [[385 346]]\n",
      "int frames: 1264\n",
      "fam session novel location: [[369 138]\n",
      " [366  92]]\n",
      "int frames: 706\n",
      "test session familiar location: [[391 358]]\n",
      "int frames: 840\n",
      "test session novel location: [[185 367]]\n",
      "int frames: 870\n"
     ]
    }
   ],
   "source": [
    "print(\"Streaker Day 3 Session 1\")\n",
    "streakerfam1day3 = np.load('/Users/jinjiang-macair/Desktop/DLC/InteractionFrameArrays/Streaker/Streakerfam1day3.npz')\n",
    "streakertest1day3 = np.load('/Users/jinjiang-macair/Desktop/DLC/InteractionFrameArrays/Streaker/Streakertest1day3.npz')\n",
    "print('fam session familiar location:', streakerfam1day3['obj1PosArray'])\n",
    "print('int frames:',streakerfam1day3['obj1NumofIntFrames'])\n",
    "print('fam session novel location:',streakerfam1day3['obj2PosArray'])\n",
    "print('int frames:', streakerfam1day3['obj2NumofIntFrames'])\n",
    "\n",
    "print('test session familiar location:',streakertest1day3['obj1PosArray'])\n",
    "print('int frames:', streakertest1day3['obj1NumofIntFrames'])\n",
    "print('test session novel location:',streakertest1day3['obj2PosArray'])\n",
    "print('int frames:', streakertest1day3['obj2NumofIntFrames'])"
   ]
  },
  {
   "cell_type": "code",
   "execution_count": 9,
   "metadata": {
    "scrolled": true
   },
   "outputs": [
    {
     "name": "stdout",
     "output_type": "stream",
     "text": [
      "Streaker Day 3 Session 2\n",
      "fam session familiar location: [[385 121]]\n",
      "int frames: 713\n",
      "fam session novel location: [[179 137]]\n",
      "int frames: 1175\n",
      "test session familiar location: [[380 141]]\n",
      "int frames: 257\n",
      "test session novel location: [[175 367]]\n",
      "int frames: 680\n"
     ]
    }
   ],
   "source": [
    "print(\"Streaker Day 3 Session 2\")\n",
    "streakerfam2day3 = np.load('/Users/jinjiang-macair/Desktop/DLC/InteractionFrameArrays/Streaker/Streakerfam2day3.npz')\n",
    "streakertest2day3 = np.load('/Users/jinjiang-macair/Desktop/DLC/InteractionFrameArrays/Streaker/Streakertest2day3.npz')\n",
    "print('fam session familiar location:', streakerfam2day3['obj1PosArray'])\n",
    "print('int frames:', streakerfam2day3['obj1NumofIntFrames'])\n",
    "print('fam session novel location:',streakerfam2day3['obj2PosArray'])\n",
    "print('int frames:', streakerfam2day3['obj2NumofIntFrames'])\n",
    "\n",
    "print('test session familiar location:',streakertest2day3['obj1PosArray'])\n",
    "print('int frames:', streakertest2day3['obj1NumofIntFrames'])\n",
    "print('test session novel location:',streakertest2day3['obj2PosArray'])\n",
    "print('int frames:', streakertest2day3['obj2NumofIntFrames'])"
   ]
  },
  {
   "cell_type": "code",
   "execution_count": 10,
   "metadata": {},
   "outputs": [
    {
     "name": "stdout",
     "output_type": "stream",
     "text": [
      "Squeaker Day 0\n",
      "fam session familiar location: [[360 137]]\n",
      "int frames: 1016\n",
      "fam session novel location: [[352 314]]\n",
      "int frames: 1067\n",
      "test session familiar location: [[404 150]]\n",
      "int frames: 65\n",
      "test session novel location: [[225 318]]\n",
      "int frames: 900\n"
     ]
    }
   ],
   "source": [
    "print(\"Squeaker Day 0\")\n",
    "squeakerfamday0 = np.load('/Users/jinjiang-macair/Desktop/DLC/InteractionFrameArrays/Squeaker/Squeakerfamday0.npz')\n",
    "squeakertestday0 = np.load('/Users/jinjiang-macair/Desktop/DLC/InteractionFrameArrays/Squeaker/Squeakertestday0.npz')\n",
    "print('fam session familiar location:', squeakerfamday0['obj1PosArray'])\n",
    "print('int frames:',squeakerfamday0['obj1NumofIntFrames'])\n",
    "print('fam session novel location:',squeakerfamday0['obj2PosArray'])\n",
    "print('int frames:', squeakerfamday0['obj2NumofIntFrames'])\n",
    "\n",
    "print('test session familiar location:',squeakertestday0['obj1PosArray'])\n",
    "print('int frames:', squeakertestday0['obj1NumofIntFrames'])\n",
    "print('test session novel location:',squeakertestday0['obj2PosArray'])\n",
    "print('int frames:', squeakertestday0['obj2NumofIntFrames'])"
   ]
  },
  {
   "cell_type": "code",
   "execution_count": 11,
   "metadata": {},
   "outputs": [
    {
     "name": "stdout",
     "output_type": "stream",
     "text": [
      "Squeaker Day 1\n",
      "fam session familiar location: [[422 357]]\n",
      "int frames: 427\n",
      "fam session novel location: [[226 145]]\n",
      "int frames: 1274\n",
      "test session familiar location: [[421 374]]\n",
      "int frames: 461\n",
      "test session novel location: [[209 366]]\n",
      "int frames: 961\n"
     ]
    }
   ],
   "source": [
    "print(\"Squeaker Day 1\")\n",
    "squeakerfamday1 = np.load('/Users/jinjiang-macair/Desktop/DLC/InteractionFrameArrays/Squeaker/Squeakerfamday1.npz')\n",
    "squeakertestday1 = np.load('/Users/jinjiang-macair/Desktop/DLC/InteractionFrameArrays/Squeaker/Squeakertestday1.npz')\n",
    "print('fam session familiar location:', squeakerfamday1['obj1PosArray'])\n",
    "print('int frames:',squeakerfamday1['obj1NumofIntFrames'])\n",
    "print('fam session novel location:',squeakerfamday1['obj2PosArray'])\n",
    "print('int frames:', squeakerfamday1['obj2NumofIntFrames'])\n",
    "\n",
    "print('test session familiar location:',squeakertestday1['obj1PosArray'])\n",
    "print('int frames:', squeakertestday1['obj1NumofIntFrames'])\n",
    "print('test session novel location:',squeakertestday1['obj2PosArray'])\n",
    "print('int frames:', squeakertestday1['obj2NumofIntFrames'])"
   ]
  },
  {
   "cell_type": "code",
   "execution_count": 12,
   "metadata": {
    "scrolled": true
   },
   "outputs": [
    {
     "name": "stdout",
     "output_type": "stream",
     "text": [
      "Squeaker Day 2 Session 1\n",
      "fam session familiar location: [[207 152]]\n",
      "int frames: 1328\n",
      "fam session novel location: [[191 342]]\n",
      "int frames: 3257\n",
      "test session familiar location: [[170 144]]\n",
      "int frames: 623\n",
      "test session novel location: [[377 367]]\n",
      "int frames: 1577\n"
     ]
    }
   ],
   "source": [
    "print(\"Squeaker Day 2 Session 1\")\n",
    "squeakerfam1day2 = np.load('/Users/jinjiang-macair/Desktop/DLC/InteractionFrameArrays/Squeaker/Squeakerfam1day2.npz')\n",
    "squeakertest1day2 = np.load('/Users/jinjiang-macair/Desktop/DLC/InteractionFrameArrays/Squeaker/Squeakertest1day2.npz')\n",
    "print('fam session familiar location:', squeakerfam1day2['obj1PosArray'])\n",
    "print('int frames:',squeakerfam1day2['obj1NumofIntFrames'])\n",
    "print('fam session novel location:',squeakerfam1day2['obj2PosArray'])\n",
    "print('int frames:', squeakerfam1day2['obj2NumofIntFrames'])\n",
    "\n",
    "print('test session familiar location:',squeakertest1day2['obj1PosArray'])\n",
    "print('int frames:', squeakertest1day2['obj1NumofIntFrames'])\n",
    "print('test session novel location:',squeakertest1day2['obj2PosArray'])\n",
    "print('int frames:', squeakertest1day2['obj2NumofIntFrames'])"
   ]
  },
  {
   "cell_type": "code",
   "execution_count": 13,
   "metadata": {},
   "outputs": [
    {
     "name": "stdout",
     "output_type": "stream",
     "text": [
      "Squeaker Day 2 Session 2\n",
      "fam session familiar location: [[183 364]]\n",
      "int frames: 1482\n",
      "fam session novel location: [[389 121]]\n",
      "int frames: 483\n",
      "test session familiar location: [[194 347]]\n",
      "int frames: 935\n",
      "test session novel location: [[185 144]]\n",
      "int frames: 491\n"
     ]
    }
   ],
   "source": [
    "print(\"Squeaker Day 2 Session 2\")\n",
    "squeakerfam2day2 = np.load('/Users/jinjiang-macair/Desktop/DLC/InteractionFrameArrays/Squeaker/Squeakerfam2day2.npz')\n",
    "squeakertest2day2 = np.load('/Users/jinjiang-macair/Desktop/DLC/InteractionFrameArrays/Squeaker/Squeakertest2day2.npz')\n",
    "print('fam session familiar location:', squeakerfam2day2['obj1PosArray'])\n",
    "print('int frames:',squeakerfam2day2['obj1NumofIntFrames'])\n",
    "print('fam session novel location:',squeakerfam2day2['obj2PosArray'])\n",
    "print('int frames:', squeakerfam2day2['obj2NumofIntFrames'])\n",
    "\n",
    "print('test session familiar location:',squeakertest2day2['obj1PosArray'])\n",
    "print('int frames:', squeakertest2day2['obj1NumofIntFrames'])\n",
    "print('test session novel location:',squeakertest2day2['obj2PosArray'])\n",
    "print('int frames:', squeakertest2day2['obj2NumofIntFrames'])"
   ]
  },
  {
   "cell_type": "code",
   "execution_count": 14,
   "metadata": {
    "scrolled": true
   },
   "outputs": [
    {
     "name": "stdout",
     "output_type": "stream",
     "text": [
      "Squeaker Day 3 Session 1\n",
      "Note: he moves the novel location object in the fam session\n",
      "fam session familiar location: [[382 347]]\n",
      "int frames: 1018\n",
      "fam session novel location: [[379 128]]\n",
      "int frames: 1291\n",
      "test session familiar location: [[381 356]]\n",
      "int frames: 0\n",
      "test session novel location: [[188 362]]\n",
      "int frames: 223\n"
     ]
    }
   ],
   "source": [
    "print(\"Squeaker Day 3 Session 1\")\n",
    "print(\"Note: he moves the novel location object in the fam session\")\n",
    "squeakerfam1day3 = np.load('/Users/jinjiang-macair/Desktop/DLC/InteractionFrameArrays/Squeaker/Squeakerfam1day3.npz')\n",
    "squeakertest1day3 = np.load('/Users/jinjiang-macair/Desktop/DLC/InteractionFrameArrays/Squeaker/Squeakertest1day3.npz')\n",
    "print('fam session familiar location:', squeakerfam1day3['obj1PosArray'])\n",
    "print('int frames:',squeakerfam1day3['obj1NumofIntFrames'])\n",
    "print('fam session novel location:',squeakerfam1day3['obj2PosArray'])\n",
    "print('int frames:', squeakerfam1day3['obj2NumofIntFrames'])\n",
    "\n",
    "print('test session familiar location:',squeakertest1day3['obj1PosArray'])\n",
    "print('int frames:', squeakertest1day3['obj1NumofIntFrames'])\n",
    "print('test session novel location:',squeakertest1day3['obj2PosArray'])\n",
    "print('int frames:', squeakertest1day3['obj2NumofIntFrames'])"
   ]
  },
  {
   "cell_type": "code",
   "execution_count": 15,
   "metadata": {
    "scrolled": true
   },
   "outputs": [
    {
     "name": "stdout",
     "output_type": "stream",
     "text": [
      "Squeaker Day 3 Session 2\n",
      "fam session familiar location: [[354 122]]\n",
      "int frames: 167\n",
      "fam session novel location: [[185 128]]\n",
      "int frames: 685\n",
      "test session familiar location: [[394 127]]\n",
      "int frames: 0\n",
      "test session novel location: [[185 361]]\n",
      "int frames: 485\n"
     ]
    }
   ],
   "source": [
    "print(\"Squeaker Day 3 Session 2\")\n",
    "squeakerfam2day3 = np.load('/Users/jinjiang-macair/Desktop/DLC/InteractionFrameArrays/Squeaker/Squeakerfam2day3.npz')\n",
    "squeakertest2day3 = np.load('/Users/jinjiang-macair/Desktop/DLC/InteractionFrameArrays/Squeaker/Squeakertest2day3.npz')\n",
    "print('fam session familiar location:', squeakerfam2day3['obj1PosArray'])\n",
    "print('int frames:', squeakerfam2day3['obj1NumofIntFrames'])\n",
    "print('fam session novel location:',squeakerfam2day3['obj2PosArray'])\n",
    "print('int frames:', squeakerfam2day3['obj2NumofIntFrames'])\n",
    "\n",
    "print('test session familiar location:',squeakertest2day3['obj1PosArray'])\n",
    "print('int frames:', squeakertest2day3['obj1NumofIntFrames'])\n",
    "print('test session novel location:',squeakertest2day3['obj2PosArray'])\n",
    "print('int frames:', squeakertest2day3['obj2NumofIntFrames'])"
   ]
  },
  {
   "cell_type": "code",
   "execution_count": 16,
   "metadata": {
    "scrolled": true
   },
   "outputs": [
    {
     "name": "stdout",
     "output_type": "stream",
     "text": [
      "Island Day 1\n",
      "fam session familiar location: [[366 285]]\n",
      "int frames: 1641\n",
      "fam session novel location: [[379 170]]\n",
      "int frames: 585\n",
      "test session familiar location: [[365 285]]\n",
      "int frames: 444\n",
      "test session novel location: [[249 290]]\n",
      "int frames: 697\n"
     ]
    }
   ],
   "source": [
    "print(\"Island Day 1\")\n",
    "islandfamday1 = np.load('/Users/jinjiang-macair/Desktop/DLC/InteractionFrameArrays/Island/Islandfamday1.npz')\n",
    "islandtestday1 = np.load('/Users/jinjiang-macair/Desktop/DLC/InteractionFrameArrays/Island/Islandtestday1.npz')\n",
    "print('fam session familiar location:', islandfamday1['obj1PosArray'])\n",
    "print('int frames:',islandfamday1['obj1NumofIntFrames'])\n",
    "print('fam session novel location:',islandfamday1['obj2PosArray'])\n",
    "print('int frames:', islandfamday1['obj2NumofIntFrames'])\n",
    "\n",
    "print('test session familiar location:',islandtestday1['obj1PosArray'])\n",
    "print('int frames:', islandtestday1['obj1NumofIntFrames'])\n",
    "print('test session novel location:',islandtestday1['obj2PosArray'])\n",
    "print('int frames:', islandtestday1['obj2NumofIntFrames'])"
   ]
  },
  {
   "cell_type": "code",
   "execution_count": 17,
   "metadata": {
    "scrolled": true
   },
   "outputs": [
    {
     "name": "stdout",
     "output_type": "stream",
     "text": [
      "Island Day 2\n",
      "fam session familiar location: [[261 122]]\n",
      "int frames: 1412\n",
      "fam session novel location: [[375 306]]\n",
      "int frames: 489\n",
      "test session familiar location: [[263 121]]\n",
      "int frames: 548\n",
      "test session novel location: [[258 295]]\n",
      "int frames: 801\n"
     ]
    }
   ],
   "source": [
    "print(\"Island Day 2\")\n",
    "islandfamday2 = np.load('/Users/jinjiang-macair/Desktop/DLC/InteractionFrameArrays/Island/Islandfamday2.npz')\n",
    "islandtestday2 = np.load('/Users/jinjiang-macair/Desktop/DLC/InteractionFrameArrays/Island/Islandtestday2.npz')\n",
    "print('fam session familiar location:', islandfamday2['obj1PosArray'])\n",
    "print('int frames:',islandfamday2['obj1NumofIntFrames'])\n",
    "print('fam session novel location:',islandfamday2['obj2PosArray'])\n",
    "print('int frames:', islandfamday2['obj2NumofIntFrames'])\n",
    "\n",
    "print('test session familiar location:',islandtestday2['obj1PosArray'])\n",
    "print('int frames:', islandtestday2['obj1NumofIntFrames'])\n",
    "print('test session novel location:',islandtestday2['obj2PosArray'])\n",
    "print('int frames:', islandtestday2['obj2NumofIntFrames'])"
   ]
  },
  {
   "cell_type": "code",
   "execution_count": 18,
   "metadata": {},
   "outputs": [
    {
     "name": "stdout",
     "output_type": "stream",
     "text": [
      "Island Day 4\n",
      "fam session familiar location: [[249 142]]\n",
      "int frames: 834\n",
      "fam session novel location: [[235 333]]\n",
      "int frames: 887\n",
      "test session familiar location: [[250 143]]\n",
      "int frames: 316\n",
      "test session novel location: [[376 150]]\n",
      "int frames: 771\n"
     ]
    }
   ],
   "source": [
    "print(\"Island Day 4\")\n",
    "islandfamday4 = np.load('/Users/jinjiang-macair/Desktop/DLC/InteractionFrameArrays/Island/Islandfamday4.npz')\n",
    "islandtestday4 = np.load('/Users/jinjiang-macair/Desktop/DLC/InteractionFrameArrays/Island/Islandtestday4.npz')\n",
    "print('fam session familiar location:', islandfamday4['obj1PosArray'])\n",
    "print('int frames:',islandfamday4['obj1NumofIntFrames'])\n",
    "print('fam session novel location:',islandfamday4['obj2PosArray'])\n",
    "print('int frames:', islandfamday4['obj2NumofIntFrames'])\n",
    "\n",
    "print('test session familiar location:',islandtestday4['obj1PosArray'])\n",
    "print('int frames:', islandtestday4['obj1NumofIntFrames'])\n",
    "print('test session novel location:',islandtestday4['obj2PosArray'])\n",
    "print('int frames:', islandtestday4['obj2NumofIntFrames'])"
   ]
  },
  {
   "cell_type": "code",
   "execution_count": 19,
   "metadata": {},
   "outputs": [
    {
     "name": "stdout",
     "output_type": "stream",
     "text": [
      "JunePhatRat Day 1\n",
      "fam session familiar location: [[237 315]]\n",
      "int frames: 3490\n",
      "fam session novel location: [[226 149]]\n",
      "int frames: 2945\n",
      "test session familiar location: [[237 315]]\n",
      "int frames: 1424\n",
      "test session novel location: [[362 298]]\n",
      "int frames: 2668\n"
     ]
    }
   ],
   "source": [
    "print(\"JunePhatRat Day 1\")\n",
    "junefamday1 = np.load('/Users/jinjiang-macair/Desktop/DLC/InteractionFrameArrays/JunePhatRat/junefamday1.npz')\n",
    "junetestday1 = np.load('/Users/jinjiang-macair/Desktop/DLC/InteractionFrameArrays/JunePhatRat/junetestday1.npz')\n",
    "print('fam session familiar location:', junefamday1['obj1PosArray'])\n",
    "print('int frames:',junefamday1['obj1NumofIntFrames'])\n",
    "print('fam session novel location:',junefamday1['obj2PosArray'])\n",
    "print('int frames:', junefamday1['obj2NumofIntFrames'])\n",
    "\n",
    "print('test session familiar location:',junetestday1['obj1PosArray'])\n",
    "print('int frames:', junetestday1['obj1NumofIntFrames'])\n",
    "print('test session novel location:',junetestday1['obj2PosArray'])\n",
    "print('int frames:', junetestday1['obj2NumofIntFrames'])"
   ]
  },
  {
   "cell_type": "code",
   "execution_count": 20,
   "metadata": {
    "scrolled": true
   },
   "outputs": [
    {
     "name": "stdout",
     "output_type": "stream",
     "text": [
      "JunePhatRat Day 2\n",
      "fam session familiar location: [[377 169]]\n",
      "int frames: 487\n",
      "fam session novel location: [[253 300]]\n",
      "int frames: 1690\n",
      "test session familiar location: [[376 172]]\n",
      "int frames: 513\n",
      "test session novel location: [[242 171]]\n",
      "int frames: 1042\n"
     ]
    }
   ],
   "source": [
    "print(\"JunePhatRat Day 2\")\n",
    "junefamday2 = np.load('/Users/jinjiang-macair/Desktop/DLC/InteractionFrameArrays/JunePhatRat/junefamday2.npz')\n",
    "junetestday2 = np.load('/Users/jinjiang-macair/Desktop/DLC/InteractionFrameArrays/JunePhatRat/junetestday2.npz')\n",
    "print('fam session familiar location:', junefamday2['obj1PosArray'])\n",
    "print('int frames:',junefamday2['obj1NumofIntFrames'])\n",
    "print('fam session novel location:',junefamday2['obj2PosArray'])\n",
    "print('int frames:', junefamday2['obj2NumofIntFrames'])\n",
    "\n",
    "print('test session familiar location:',junetestday2['obj1PosArray'])\n",
    "print('int frames:', junetestday2['obj1NumofIntFrames'])\n",
    "print('test session novel location:',junetestday2['obj2PosArray'])\n",
    "print('int frames:', junetestday2['obj2NumofIntFrames'])"
   ]
  },
  {
   "cell_type": "code",
   "execution_count": 21,
   "metadata": {},
   "outputs": [
    {
     "name": "stdout",
     "output_type": "stream",
     "text": [
      "JunePhatRat Day 3 Session 1\n",
      "fam session familiar location: [[238 314]]\n",
      "int frames: 1899\n",
      "fam session novel location: [[367 317]]\n",
      "int frames: 1313\n",
      "test session familiar location: [[240 316]]\n",
      "int frames: 1327\n",
      "test session novel location: [[383 155]]\n",
      "int frames: 1430\n"
     ]
    }
   ],
   "source": [
    "print(\"JunePhatRat Day 3 Session 1\")\n",
    "junefam1day3 = np.load('/Users/jinjiang-macair/Desktop/DLC/InteractionFrameArrays/JunePhatRat/junefam1day3.npz')\n",
    "junetest1day3 = np.load('/Users/jinjiang-macair/Desktop/DLC/InteractionFrameArrays/JunePhatRat/junetest1day3.npz')\n",
    "print('fam session familiar location:', junefam1day3['obj1PosArray'])\n",
    "print('int frames:',junefam1day3['obj1NumofIntFrames'])\n",
    "print('fam session novel location:',junefam1day3['obj2PosArray'])\n",
    "print('int frames:', junefam1day3['obj2NumofIntFrames'])\n",
    "\n",
    "print('test session familiar location:',junetest1day3['obj1PosArray'])\n",
    "print('int frames:', junetest1day3['obj1NumofIntFrames'])\n",
    "print('test session novel location:',junetest1day3['obj2PosArray'])\n",
    "print('int frames:', junetest1day3['obj2NumofIntFrames'])"
   ]
  },
  {
   "cell_type": "code",
   "execution_count": 22,
   "metadata": {
    "scrolled": true
   },
   "outputs": [
    {
     "name": "stdout",
     "output_type": "stream",
     "text": [
      "JunePhatRat Day 3 Session 2\n",
      "fam session familiar location: [[383 140]]\n",
      "int frames: 548\n",
      "fam session novel location: [[241 304]]\n",
      "int frames: 2231\n",
      "test session familiar location: [[381 140]]\n",
      "int frames: 338\n",
      "test session novel location: [[237 146]]\n",
      "int frames: 1678\n"
     ]
    }
   ],
   "source": [
    "print(\"JunePhatRat Day 3 Session 2\")\n",
    "junefam2day3 = np.load('/Users/jinjiang-macair/Desktop/DLC/InteractionFrameArrays/JunePhatRat/junefam2day3.npz')\n",
    "junetest2day3 = np.load('/Users/jinjiang-macair/Desktop/DLC/InteractionFrameArrays/JunePhatRat/junetest2day3.npz')\n",
    "print('fam session familiar location:', junefam2day3['obj1PosArray'])\n",
    "print('int frames:',junefam2day3['obj1NumofIntFrames'])\n",
    "print('fam session novel location:',junefam2day3['obj2PosArray'])\n",
    "print('int frames:', junefam2day3['obj2NumofIntFrames'])\n",
    "\n",
    "print('test session familiar location:',junetest2day3['obj1PosArray'])\n",
    "print('int frames:', junetest2day3['obj1NumofIntFrames'])\n",
    "print('test session novel location:',junetest2day3['obj2PosArray'])\n",
    "print('int frames:', junetest2day3['obj2NumofIntFrames'])"
   ]
  },
  {
   "cell_type": "code",
   "execution_count": 23,
   "metadata": {},
   "outputs": [
    {
     "name": "stdout",
     "output_type": "stream",
     "text": [
      "JunePhatRat Day 4\n",
      "fam session familiar location: [[249 312]]\n",
      "int frames: 688\n",
      "fam session novel location: [[251 160]]\n",
      "int frames: 918\n",
      "test session familiar location: [[246 311]]\n",
      "int frames: 465\n",
      "test session novel location: [[363 308]]\n",
      "int frames: 1380\n"
     ]
    }
   ],
   "source": [
    "print(\"JunePhatRat Day 4\")\n",
    "junefamday4 = np.load('/Users/jinjiang-macair/Desktop/DLC/InteractionFrameArrays/JunePhatRat/junefamday4.npz')\n",
    "junetestday4 = np.load('/Users/jinjiang-macair/Desktop/DLC/InteractionFrameArrays/JunePhatRat/junetestday4.npz')\n",
    "print('fam session familiar location:', junefamday4['obj1PosArray'])\n",
    "print('int frames:',junefamday4['obj1NumofIntFrames'])\n",
    "print('fam session novel location:',junefamday4['obj2PosArray'])\n",
    "print('int frames:', junefamday4['obj2NumofIntFrames'])\n",
    "\n",
    "print('test session familiar location:',junetestday4['obj1PosArray'])\n",
    "print('int frames:', junetestday4['obj1NumofIntFrames'])\n",
    "print('test session novel location:',junetestday4['obj2PosArray'])\n",
    "print('int frames:', junetestday4['obj2NumofIntFrames'])"
   ]
  },
  {
   "cell_type": "markdown",
   "metadata": {},
   "source": [
    "# Quick novelty preference plots\n",
    "$\\frac{(nov-fam)}{(nov+fam)}$<br>\n",
    "Carr-Larkin Hippocampus 2014"
   ]
  },
  {
   "cell_type": "code",
   "execution_count": 26,
   "metadata": {},
   "outputs": [],
   "source": [
    "famControl = np.array([streakerfamday0['obj1NumofIntFrames'], streakerfamday1['obj1NumofIntFrames'], streakerfam1day2['obj1NumofIntFrames'], streakerfam2day2['obj1NumofIntFrames'], streakerfam1day3['obj1NumofIntFrames'], streakerfam2day3['obj1NumofIntFrames'], squeakerfamday0['obj1NumofIntFrames'], squeakerfamday1['obj1NumofIntFrames'], squeakerfam1day2['obj1NumofIntFrames'], squeakerfam2day2['obj1NumofIntFrames'], squeakerfam1day3['obj1NumofIntFrames'], squeakerfam2day3['obj1NumofIntFrames'], islandfamday1['obj1NumofIntFrames'], islandfamday2['obj1NumofIntFrames'], islandfamday4['obj1NumofIntFrames'],junefamday1['obj1NumofIntFrames'],junefamday2['obj1NumofIntFrames'], junefam1day3['obj1NumofIntFrames'], junefam2day3['obj1NumofIntFrames'], junefamday4['obj1NumofIntFrames']])\n",
    "novControl = np.array([streakerfamday0['obj2NumofIntFrames'], streakerfamday1['obj2NumofIntFrames'], streakerfam1day2['obj2NumofIntFrames'], streakerfam2day2['obj2NumofIntFrames'], streakerfam1day3['obj2NumofIntFrames'], streakerfam2day3['obj2NumofIntFrames'], squeakerfamday0['obj2NumofIntFrames'], squeakerfamday1['obj2NumofIntFrames'], squeakerfam1day2['obj2NumofIntFrames'], squeakerfam2day2['obj2NumofIntFrames'], squeakerfam1day3['obj2NumofIntFrames'], squeakerfam2day3['obj2NumofIntFrames'], islandfamday1['obj2NumofIntFrames'], islandfamday2['obj2NumofIntFrames'], islandfamday4['obj2NumofIntFrames'],junefamday1['obj2NumofIntFrames'],junefamday2['obj2NumofIntFrames'], junefam1day3['obj2NumofIntFrames'], junefam2day3['obj2NumofIntFrames'], junefamday4['obj2NumofIntFrames']])\n",
    "plotMeCtrl = (novControl-famControl)/(famControl+novControl)"
   ]
  },
  {
   "cell_type": "code",
   "execution_count": 27,
   "metadata": {},
   "outputs": [
    {
     "data": {
      "text/plain": [
       "array([ 0.39039666, -0.01213101,  0.74118231,  0.08884956, -0.28324873,\n",
       "        0.24470339,  0.02448392,  0.49794239,  0.42071974, -0.50839695,\n",
       "        0.118233  ,  0.60798122, -0.47439353, -0.48553393,  0.03079605,\n",
       "       -0.08469308,  0.55259531, -0.18244085,  0.60561353,  0.14321295])"
      ]
     },
     "execution_count": 27,
     "metadata": {},
     "output_type": "execute_result"
    }
   ],
   "source": [
    "plotMeCtrl"
   ]
  },
  {
   "cell_type": "code",
   "execution_count": 30,
   "metadata": {},
   "outputs": [],
   "source": [
    "famTest = np.array([streakertestday0['obj1NumofIntFrames'], streakertestday1['obj1NumofIntFrames'], streakertest1day2['obj1NumofIntFrames'], streakertest2day2['obj1NumofIntFrames'], streakertest1day3['obj1NumofIntFrames'], streakertest2day3['obj1NumofIntFrames'], squeakertestday0['obj1NumofIntFrames'], squeakertestday1['obj1NumofIntFrames'], squeakertest1day2['obj1NumofIntFrames'], squeakertest2day2['obj1NumofIntFrames'], squeakertest1day3['obj1NumofIntFrames'], squeakertest2day3['obj1NumofIntFrames'], islandtestday1['obj1NumofIntFrames'], islandtestday2['obj1NumofIntFrames'], islandtestday4['obj1NumofIntFrames'],junetestday1['obj1NumofIntFrames'],junetestday2['obj1NumofIntFrames'], junetest1day3['obj1NumofIntFrames'], junetest2day3['obj1NumofIntFrames'], junetestday4['obj1NumofIntFrames']])\n",
    "novTest = np.array([streakertestday0['obj2NumofIntFrames'], streakertestday1['obj2NumofIntFrames'], streakertest1day2['obj2NumofIntFrames'], streakertest2day2['obj2NumofIntFrames'], streakertest1day3['obj2NumofIntFrames'], streakertest2day3['obj2NumofIntFrames'], squeakertestday0['obj2NumofIntFrames'], squeakertestday1['obj2NumofIntFrames'], squeakertest1day2['obj2NumofIntFrames'], squeakertest2day2['obj2NumofIntFrames'], squeakertest1day3['obj2NumofIntFrames'], squeakertest2day3['obj2NumofIntFrames'], islandtestday1['obj2NumofIntFrames'], islandtestday2['obj2NumofIntFrames'], islandtestday4['obj2NumofIntFrames'],junetestday1['obj2NumofIntFrames'],junetestday2['obj2NumofIntFrames'], junetest1day3['obj2NumofIntFrames'], junetest2day3['obj2NumofIntFrames'], junetestday4['obj2NumofIntFrames']])\n",
    "plotMeTest = (novTest-famTest)/(famTest+novTest)"
   ]
  },
  {
   "cell_type": "code",
   "execution_count": 32,
   "metadata": {},
   "outputs": [
    {
     "data": {
      "text/plain": [
       "array([-0.08665511,  0.26924829, -0.31881804, -0.47043154,  0.01754386,\n",
       "        0.45144077,  0.86528497,  0.35161744,  0.43363636, -0.31136045,\n",
       "        1.        ,  1.        ,  0.22173532,  0.18754633,  0.41858326,\n",
       "        0.30400782,  0.34019293,  0.03735945,  0.66468254,  0.49593496])"
      ]
     },
     "execution_count": 32,
     "metadata": {},
     "output_type": "execute_result"
    }
   ],
   "source": [
    "plotMeTest"
   ]
  },
  {
   "cell_type": "code",
   "execution_count": 38,
   "metadata": {},
   "outputs": [],
   "source": [
    "import seaborn as sns"
   ]
  },
  {
   "cell_type": "code",
   "execution_count": 35,
   "metadata": {},
   "outputs": [
    {
     "data": {
      "text/html": [
       "<div>\n",
       "<style scoped>\n",
       "    .dataframe tbody tr th:only-of-type {\n",
       "        vertical-align: middle;\n",
       "    }\n",
       "\n",
       "    .dataframe tbody tr th {\n",
       "        vertical-align: top;\n",
       "    }\n",
       "\n",
       "    .dataframe thead th {\n",
       "        text-align: right;\n",
       "    }\n",
       "</style>\n",
       "<table border=\"1\" class=\"dataframe\">\n",
       "  <thead>\n",
       "    <tr style=\"text-align: right;\">\n",
       "      <th></th>\n",
       "      <th>Novelty Preference</th>\n",
       "      <th>Experiment</th>\n",
       "    </tr>\n",
       "  </thead>\n",
       "  <tbody>\n",
       "    <tr>\n",
       "      <td>0</td>\n",
       "      <td>-0.086655</td>\n",
       "      <td>Test</td>\n",
       "    </tr>\n",
       "    <tr>\n",
       "      <td>1</td>\n",
       "      <td>0.269248</td>\n",
       "      <td>Test</td>\n",
       "    </tr>\n",
       "    <tr>\n",
       "      <td>2</td>\n",
       "      <td>-0.318818</td>\n",
       "      <td>Test</td>\n",
       "    </tr>\n",
       "    <tr>\n",
       "      <td>3</td>\n",
       "      <td>-0.470432</td>\n",
       "      <td>Test</td>\n",
       "    </tr>\n",
       "    <tr>\n",
       "      <td>4</td>\n",
       "      <td>0.017544</td>\n",
       "      <td>Test</td>\n",
       "    </tr>\n",
       "    <tr>\n",
       "      <td>5</td>\n",
       "      <td>0.451441</td>\n",
       "      <td>Test</td>\n",
       "    </tr>\n",
       "    <tr>\n",
       "      <td>6</td>\n",
       "      <td>0.865285</td>\n",
       "      <td>Test</td>\n",
       "    </tr>\n",
       "    <tr>\n",
       "      <td>7</td>\n",
       "      <td>0.351617</td>\n",
       "      <td>Test</td>\n",
       "    </tr>\n",
       "    <tr>\n",
       "      <td>8</td>\n",
       "      <td>0.433636</td>\n",
       "      <td>Test</td>\n",
       "    </tr>\n",
       "    <tr>\n",
       "      <td>9</td>\n",
       "      <td>-0.311360</td>\n",
       "      <td>Test</td>\n",
       "    </tr>\n",
       "    <tr>\n",
       "      <td>10</td>\n",
       "      <td>1.000000</td>\n",
       "      <td>Test</td>\n",
       "    </tr>\n",
       "    <tr>\n",
       "      <td>11</td>\n",
       "      <td>1.000000</td>\n",
       "      <td>Test</td>\n",
       "    </tr>\n",
       "    <tr>\n",
       "      <td>12</td>\n",
       "      <td>0.221735</td>\n",
       "      <td>Test</td>\n",
       "    </tr>\n",
       "    <tr>\n",
       "      <td>13</td>\n",
       "      <td>0.187546</td>\n",
       "      <td>Test</td>\n",
       "    </tr>\n",
       "    <tr>\n",
       "      <td>14</td>\n",
       "      <td>0.418583</td>\n",
       "      <td>Test</td>\n",
       "    </tr>\n",
       "    <tr>\n",
       "      <td>15</td>\n",
       "      <td>0.304008</td>\n",
       "      <td>Test</td>\n",
       "    </tr>\n",
       "    <tr>\n",
       "      <td>16</td>\n",
       "      <td>0.340193</td>\n",
       "      <td>Test</td>\n",
       "    </tr>\n",
       "    <tr>\n",
       "      <td>17</td>\n",
       "      <td>0.037359</td>\n",
       "      <td>Test</td>\n",
       "    </tr>\n",
       "    <tr>\n",
       "      <td>18</td>\n",
       "      <td>0.664683</td>\n",
       "      <td>Test</td>\n",
       "    </tr>\n",
       "    <tr>\n",
       "      <td>19</td>\n",
       "      <td>0.495935</td>\n",
       "      <td>Test</td>\n",
       "    </tr>\n",
       "    <tr>\n",
       "      <td>20</td>\n",
       "      <td>0.390397</td>\n",
       "      <td>Control</td>\n",
       "    </tr>\n",
       "    <tr>\n",
       "      <td>21</td>\n",
       "      <td>-0.012131</td>\n",
       "      <td>Control</td>\n",
       "    </tr>\n",
       "    <tr>\n",
       "      <td>22</td>\n",
       "      <td>0.741182</td>\n",
       "      <td>Control</td>\n",
       "    </tr>\n",
       "    <tr>\n",
       "      <td>23</td>\n",
       "      <td>0.088850</td>\n",
       "      <td>Control</td>\n",
       "    </tr>\n",
       "    <tr>\n",
       "      <td>24</td>\n",
       "      <td>-0.283249</td>\n",
       "      <td>Control</td>\n",
       "    </tr>\n",
       "    <tr>\n",
       "      <td>25</td>\n",
       "      <td>0.244703</td>\n",
       "      <td>Control</td>\n",
       "    </tr>\n",
       "    <tr>\n",
       "      <td>26</td>\n",
       "      <td>0.024484</td>\n",
       "      <td>Control</td>\n",
       "    </tr>\n",
       "    <tr>\n",
       "      <td>27</td>\n",
       "      <td>0.497942</td>\n",
       "      <td>Control</td>\n",
       "    </tr>\n",
       "    <tr>\n",
       "      <td>28</td>\n",
       "      <td>0.420720</td>\n",
       "      <td>Control</td>\n",
       "    </tr>\n",
       "    <tr>\n",
       "      <td>29</td>\n",
       "      <td>-0.508397</td>\n",
       "      <td>Control</td>\n",
       "    </tr>\n",
       "    <tr>\n",
       "      <td>30</td>\n",
       "      <td>0.118233</td>\n",
       "      <td>Control</td>\n",
       "    </tr>\n",
       "    <tr>\n",
       "      <td>31</td>\n",
       "      <td>0.607981</td>\n",
       "      <td>Control</td>\n",
       "    </tr>\n",
       "    <tr>\n",
       "      <td>32</td>\n",
       "      <td>-0.474394</td>\n",
       "      <td>Control</td>\n",
       "    </tr>\n",
       "    <tr>\n",
       "      <td>33</td>\n",
       "      <td>-0.485534</td>\n",
       "      <td>Control</td>\n",
       "    </tr>\n",
       "    <tr>\n",
       "      <td>34</td>\n",
       "      <td>0.030796</td>\n",
       "      <td>Control</td>\n",
       "    </tr>\n",
       "    <tr>\n",
       "      <td>35</td>\n",
       "      <td>-0.084693</td>\n",
       "      <td>Control</td>\n",
       "    </tr>\n",
       "    <tr>\n",
       "      <td>36</td>\n",
       "      <td>0.552595</td>\n",
       "      <td>Control</td>\n",
       "    </tr>\n",
       "    <tr>\n",
       "      <td>37</td>\n",
       "      <td>-0.182441</td>\n",
       "      <td>Control</td>\n",
       "    </tr>\n",
       "    <tr>\n",
       "      <td>38</td>\n",
       "      <td>0.605614</td>\n",
       "      <td>Control</td>\n",
       "    </tr>\n",
       "    <tr>\n",
       "      <td>39</td>\n",
       "      <td>0.143213</td>\n",
       "      <td>Control</td>\n",
       "    </tr>\n",
       "  </tbody>\n",
       "</table>\n",
       "</div>"
      ],
      "text/plain": [
       "    Novelty Preference Experiment\n",
       "0            -0.086655       Test\n",
       "1             0.269248       Test\n",
       "2            -0.318818       Test\n",
       "3            -0.470432       Test\n",
       "4             0.017544       Test\n",
       "5             0.451441       Test\n",
       "6             0.865285       Test\n",
       "7             0.351617       Test\n",
       "8             0.433636       Test\n",
       "9            -0.311360       Test\n",
       "10            1.000000       Test\n",
       "11            1.000000       Test\n",
       "12            0.221735       Test\n",
       "13            0.187546       Test\n",
       "14            0.418583       Test\n",
       "15            0.304008       Test\n",
       "16            0.340193       Test\n",
       "17            0.037359       Test\n",
       "18            0.664683       Test\n",
       "19            0.495935       Test\n",
       "20            0.390397    Control\n",
       "21           -0.012131    Control\n",
       "22            0.741182    Control\n",
       "23            0.088850    Control\n",
       "24           -0.283249    Control\n",
       "25            0.244703    Control\n",
       "26            0.024484    Control\n",
       "27            0.497942    Control\n",
       "28            0.420720    Control\n",
       "29           -0.508397    Control\n",
       "30            0.118233    Control\n",
       "31            0.607981    Control\n",
       "32           -0.474394    Control\n",
       "33           -0.485534    Control\n",
       "34            0.030796    Control\n",
       "35           -0.084693    Control\n",
       "36            0.552595    Control\n",
       "37           -0.182441    Control\n",
       "38            0.605614    Control\n",
       "39            0.143213    Control"
      ]
     },
     "execution_count": 35,
     "metadata": {},
     "output_type": "execute_result"
    }
   ],
   "source": [
    "noveltyPref = np.append(plotMeTest,plotMeCtrl)\n",
    "\n",
    "experimentType = np.array([\"Test\",\"Test\",\"Test\",\"Test\",\"Test\",\"Test\",\"Test\",\"Test\",\"Test\",\"Test\",\"Test\",\"Test\",\"Test\",\"Test\",\"Test\",\"Test\",\"Test\",\"Test\",\"Test\",\"Test\",\"Familiarization\",\"Familiarization\",\"Familiarization\",\"Familiarization\",\"Familiarization\",\"Familiarization\",\"Familiarization\",\"Familiarization\",\"Familiarization\",\"Familiarization\",\"Familiarization\",\"Familiarization\",\"Familiarization\",\"Familiarization\",\"Familiarization\",\"Familiarization\",\"Familiarization\",\"Familiarization\",\"Familiarization\",\"Familiarization\"])\n",
    "\n",
    "noveltyPref = pd.DataFrame(data=np.asarray([noveltyPref,experimentType]).T,columns=['Novelty Preference','Experiment'])\n",
    "noveltyPref = noveltyPref.astype({\"Novelty Preference\":plotMeTest.dtype})\n",
    "noveltyPref"
   ]
  },
  {
   "cell_type": "code",
   "execution_count": 39,
   "metadata": {},
   "outputs": [],
   "source": [
    "# Shay's plot settings\n",
    "npl.setup()\n",
    "npl.set_palette(npl.colors.cows)\n",
    "npl.setup(font='Universalis ADF Std', font_scale=2, style='white',\\\n",
    "         rc=({'figure.figsize': (12, 6), 'font.size': 18, 'axes.labelsize': 25, \\\n",
    "             'axes.titlesize':33, 'legend.fontsize': 20, 'ytick.labelsize': 10, 'xtick.labelsize': 20}))\n",
    "%matplotlib inline "
   ]
  },
  {
   "cell_type": "code",
   "execution_count": 40,
   "metadata": {},
   "outputs": [
    {
     "data": {
      "text/plain": [
       "<matplotlib.axes._subplots.AxesSubplot at 0x1c296ad750>"
      ]
     },
     "execution_count": 40,
     "metadata": {},
     "output_type": "execute_result"
    },
    {
     "name": "stderr",
     "output_type": "stream",
     "text": [
      "findfont: Font family ['Universalis ADF Std'] not found. Falling back to DejaVu Sans.\n",
      "findfont: Font family ['Universalis ADF Std'] not found. Falling back to DejaVu Sans.\n",
      "findfont: Font family ['Universalis ADF Std'] not found. Falling back to DejaVu Sans.\n"
     ]
    },
    {
     "data": {
      "image/png": "[encoded data removed]",
      "text/plain": [
       "<Figure size 432x288 with 1 Axes>"
      ]
     },
     "metadata": {
      "needs_background": "light"
     },
     "output_type": "display_data"
    }
   ],
   "source": [
    "sns.barplot(x=\"Experiment\", y=\"Novelty Preference\", data=noveltyPref, capsize=.1, ci=\"sd\")\n",
    "sns.swarmplot(x=\"Experiment\", y=\"Novelty Preference\", data=noveltyPref, color=\"0\", alpha=.5)"
   ]
  },
  {
   "cell_type": "code",
   "execution_count": null,
   "metadata": {},
   "outputs": [],
   "source": []
  }
 ],
 "metadata": {
  "kernelspec": {
   "display_name": "Python 3",
   "language": "python",
   "name": "python3"
  },
  "language_info": {
   "codemirror_mode": {
    "name": "ipython",
    "version": 3
   },
   "file_extension": ".py",
   "mimetype": "text/x-python",
   "name": "python",
   "nbconvert_exporter": "python",
   "pygments_lexer": "ipython3",
   "version": "3.7.4"
  }
 },
 "nbformat": 4,
 "nbformat_minor": 4
}
