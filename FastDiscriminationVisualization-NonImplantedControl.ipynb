{
 "cells": [
  {
   "cell_type": "code",
   "execution_count": 45,
   "metadata": {},
   "outputs": [],
   "source": [
    "# imports\n",
    "import numpy as np\n",
    "import os\n",
    "from skimage.measure import label, regionprops\n",
    "from skimage.draw import line, set_color, circle, circle_perimeter\n",
    "import skvideo.io\n",
    "import imageio\n",
    "import operator\n",
    "import math\n",
    "import cv2\n",
    "import pandas as pd\n",
    "\n",
    "import time\n",
    "\n",
    "import warnings\n",
    "warnings.simplefilter(\"ignore\", UserWarning)\n",
    "import nelpy as nel  \n",
    "import nelpy.plotting as npl\n",
    "import matplotlib.pyplot as plt\n",
    "import matplotlib as mpl\n",
    "from tqdm.notebook import tqdm as tqdm"
   ]
  },
  {
   "cell_type": "markdown",
   "metadata": {},
   "source": [
    "## Homography"
   ]
  },
  {
   "cell_type": "code",
   "execution_count": 46,
   "metadata": {
    "cell_id": "00006-bdd50042-f670-44ac-afbb-84d3cf202992",
    "deepnote_cell_type": "code",
    "execution_millis": 1,
    "execution_start": 1608999056034,
    "output_cleared": false,
    "source_hash": "8cb5ed1b",
    "tags": []
   },
   "outputs": [],
   "source": [
    "# let's go ahead and find all homographies. We'll have all head coords in cm after this cell\n",
    "streakerDay0 = [[127, 51], [106, 414], [474, 424], [474, 60]]\n",
    "streakerDay1 = [[147, 70], [128, 438], [498, 444], [499, 82]]\n",
    "streakerDay2 = [[102, 67], [89, 430], [458, 435], [451, 70]]\n",
    "streakerDay3 = [[106, 73], [456, 63], [475, 426], [105, 436]]"
   ]
  },
  {
   "cell_type": "code",
   "execution_count": 47,
   "metadata": {},
   "outputs": [],
   "source": [
    "squeakerDay0 = [[128, 54], [108, 412], [474, 425], [474, 62]]\n",
    "squeakerDay1 = [[148, 72], [130, 435], [497, 446], [498, 84]]\n",
    "squeakerDay2 = [[103, 71], [91, 428], [455, 432], [452, 70]]\n",
    "squeakerDay3 = [[107, 73], [107, 435], [478, 426], [456, 63]]"
   ]
  },
  {
   "cell_type": "code",
   "execution_count": 48,
   "metadata": {},
   "outputs": [],
   "source": [
    "islandDay1 = [[130, 48], [107, 408], [474, 416], [477, 59]]\n",
    "islandDay2 = [[129, 51], [109, 409], [475, 419], [474, 58]]\n",
    "islandDay3 = [[128, 49], [107, 410], [475, 417], [475, 59]]\n",
    "islandDay4 = [[127, 49], [108, 408], [475, 417], [475, 58]]"
   ]
  },
  {
   "cell_type": "code",
   "execution_count": 49,
   "metadata": {},
   "outputs": [],
   "source": [
    "juneDay1 = [[127, 49], [106, 408], [475, 419], [474, 59]]\n",
    "juneDay2 = [[127, 47], [107, 408], [478, 420], [479, 57]]\n",
    "juneDay3 = [[126, 49], [108, 409], [476, 420], [475, 57]]\n",
    "juneDay4 = [[127, 47], [108, 410], [478, 420], [476, 57]]"
   ]
  },
  {
   "cell_type": "code",
   "execution_count": 50,
   "metadata": {},
   "outputs": [],
   "source": [
    "FinalControlDay1 = [[128,50], [476,417], [109,409], [478,58]]\n",
    "FinalControlDay2 = [[130,51], [109, 407], [476,415], [475,56]]\n",
    "FinalControlDay3 = [[129,50], [109,409], [477,421], [471,59]]\n",
    "FinalControlDay4 = [[129,52], [108,408], [477,419], [476,58]]\n",
    "FinalControlDay5 = [[130,50], [474,54], [475,418], [108,409]]"
   ]
  },
  {
   "cell_type": "code",
   "execution_count": 51,
   "metadata": {},
   "outputs": [],
   "source": [
    "#Find homography\n",
    "source_pts = np.array(streakerDay0, dtype = 'float32') #pixels!\n",
    "dst_pts = np.array([[0, 0], [100, 0], [100, 100], [0, 100]], dtype = 'float32') #cm\n",
    "\n",
    "homography_matrix, _ = cv2.findHomography(source_pts, dst_pts, cv2.RANSAC, 5.0) #not sure what the 5.0 is really doing seems to work though\n",
    "# POINTMOO = np.array([[headPos[0,0],headPos[0,1]]],dtype = 'float32')\n",
    "# POINTMOO = np.array([POINTMOO])\n",
    "# dst_pt = cv2.perspectiveTransform(POINTMOO, homography_matrix)\n",
    "# print(dst_pt.squeeze())"
   ]
  },
  {
   "cell_type": "code",
   "execution_count": 52,
   "metadata": {},
   "outputs": [
    {
     "name": "stdout",
     "output_type": "stream",
     "text": [
      "Streaker Day 0\n",
      "fam session familiar location: [[360 135]]\n",
      "int frames: 292\n",
      "fam session novel location: [[364 333]]\n",
      "int frames: 666\n",
      "test session familiar location: [[388 151]]\n",
      "int frames: 627\n",
      "test session novel location: [[219 333]]\n",
      "int frames: 527\n"
     ]
    }
   ],
   "source": [
    "print(\"Streaker Day 0\")\n",
    "streakerfamday0 = np.load('/Users/jinjiang-macair/Desktop/DLC/InteractionFrameArrays/Streaker/Streakerfamday0.npz')\n",
    "streakertestday0 = np.load('/Users/jinjiang-macair/Desktop/DLC/InteractionFrameArrays/Streaker/Streakertestday0.npz')\n",
    "print('fam session familiar location:', streakerfamday0['obj1PosArray'])\n",
    "print('int frames:',streakerfamday0['obj1NumofIntFrames'])\n",
    "print('fam session novel location:',streakerfamday0['obj2PosArray'])\n",
    "print('int frames:', streakerfamday0['obj2NumofIntFrames'])\n",
    "\n",
    "print('test session familiar location:',streakertestday0['obj1PosArray'])\n",
    "print('int frames:', streakertestday0['obj1NumofIntFrames'])\n",
    "print('test session novel location:',streakertestday0['obj2PosArray'])\n",
    "print('int frames:', streakertestday0['obj2NumofIntFrames'])"
   ]
  },
  {
   "cell_type": "code",
   "execution_count": 53,
   "metadata": {},
   "outputs": [
    {
     "name": "stdout",
     "output_type": "stream",
     "text": [
      "Streaker Day 1\n",
      "fam session familiar location: [[388 333]]\n",
      "int frames: 2503\n",
      "fam session novel location: [[228 156]]\n",
      "int frames: 2443\n",
      "test session familiar location: [[411 367]]\n",
      "int frames: 802\n",
      "test session novel location: [[222 356]]\n",
      "int frames: 1393\n"
     ]
    }
   ],
   "source": [
    "print(\"Streaker Day 1\")\n",
    "streakerfamday1 = np.load('/Users/jinjiang-macair/Desktop/DLC/InteractionFrameArrays/Streaker/Streakerfamday1.npz')\n",
    "streakertestday1 = np.load('/Users/jinjiang-macair/Desktop/DLC/InteractionFrameArrays/Streaker/Streakertestday1.npz')\n",
    "print('fam session familiar location:', streakerfamday1['obj1PosArray'])\n",
    "print('int frames:',streakerfamday1['obj1NumofIntFrames'])\n",
    "print('fam session novel location:',streakerfamday1['obj2PosArray'])\n",
    "print('int frames:', streakerfamday1['obj2NumofIntFrames'])\n",
    "\n",
    "print('test session familiar location:',streakertestday1['obj1PosArray'])\n",
    "print('int frames:', streakertestday1['obj1NumofIntFrames'])\n",
    "print('test session novel location:',streakertestday1['obj2PosArray'])\n",
    "print('int frames:', streakertestday1['obj2NumofIntFrames'])"
   ]
  },
  {
   "cell_type": "code",
   "execution_count": 54,
   "metadata": {},
   "outputs": [
    {
     "name": "stdout",
     "output_type": "stream",
     "text": [
      "Streaker Day 2 Session 1\n",
      "fam session familiar location: [[191 134]]\n",
      "int frames: 521\n",
      "fam session novel location: [[188 351]]\n",
      "int frames: 3505\n",
      "test session familiar location: [[184 141]]\n",
      "int frames: 848\n",
      "test session novel location: [[369 352]]\n",
      "int frames: 438\n"
     ]
    }
   ],
   "source": [
    "print(\"Streaker Day 2 Session 1\")\n",
    "streakerfam1day2 = np.load('/Users/jinjiang-macair/Desktop/DLC/InteractionFrameArrays/Streaker/Streakerfam1day2.npz')\n",
    "streakertest1day2 = np.load('/Users/jinjiang-macair/Desktop/DLC/InteractionFrameArrays/Streaker/Streakertest1day2.npz')\n",
    "print('fam session familiar location:', streakerfam1day2['obj1PosArray'])\n",
    "print('int frames:',streakerfam1day2['obj1NumofIntFrames'])\n",
    "print('fam session novel location:',streakerfam1day2['obj2PosArray'])\n",
    "print('int frames:', streakerfam1day2['obj2NumofIntFrames'])\n",
    "\n",
    "print('test session familiar location:',streakertest1day2['obj1PosArray'])\n",
    "print('int frames:', streakertest1day2['obj1NumofIntFrames'])\n",
    "print('test session novel location:',streakertest1day2['obj2PosArray'])\n",
    "print('int frames:', streakertest1day2['obj2NumofIntFrames'])"
   ]
  },
  {
   "cell_type": "code",
   "execution_count": 55,
   "metadata": {
    "scrolled": true
   },
   "outputs": [
    {
     "name": "stdout",
     "output_type": "stream",
     "text": [
      "Streaker Day 2 Session 2\n",
      "fam session familiar location: [[163 361]]\n",
      "int frames: 1287\n",
      "fam session novel location: [[384 129]]\n",
      "int frames: 1538\n",
      "test session familiar location: [[164 359]]\n",
      "int frames: 1380\n",
      "test session novel location: [[172 124]]\n",
      "int frames: 497\n"
     ]
    }
   ],
   "source": [
    "print(\"Streaker Day 2 Session 2\")\n",
    "streakerfam2day2 = np.load('/Users/jinjiang-macair/Desktop/DLC/InteractionFrameArrays/Streaker/Streakerfam2day2.npz')\n",
    "streakertest2day2 = np.load('/Users/jinjiang-macair/Desktop/DLC/InteractionFrameArrays/Streaker/Streakertest2day2.npz')\n",
    "print('fam session familiar location:', streakerfam2day2['obj1PosArray'])\n",
    "print('int frames:', streakerfam2day2['obj1NumofIntFrames'])\n",
    "print('fam session novel location:',streakerfam2day2['obj2PosArray'])\n",
    "print('int frames:', streakerfam2day2['obj2NumofIntFrames'])\n",
    "\n",
    "print('test session familiar location:',streakertest2day2['obj1PosArray'])\n",
    "print('int frames:', streakertest2day2['obj1NumofIntFrames'])\n",
    "print('test session novel location:',streakertest2day2['obj2PosArray'])\n",
    "print('int frames:', streakertest2day2['obj2NumofIntFrames'])"
   ]
  },
  {
   "cell_type": "code",
   "execution_count": 56,
   "metadata": {},
   "outputs": [
    {
     "name": "stdout",
     "output_type": "stream",
     "text": [
      "Streaker Day 3 Session 1\n",
      "fam session familiar location: [[385 346]]\n",
      "int frames: 1264\n",
      "fam session novel location: [[369 138]\n",
      " [366  92]]\n",
      "int frames: 706\n",
      "test session familiar location: [[391 358]]\n",
      "int frames: 840\n",
      "test session novel location: [[185 367]]\n",
      "int frames: 870\n"
     ]
    }
   ],
   "source": [
    "print(\"Streaker Day 3 Session 1\")\n",
    "streakerfam1day3 = np.load('/Users/jinjiang-macair/Desktop/DLC/InteractionFrameArrays/Streaker/Streakerfam1day3.npz')\n",
    "streakertest1day3 = np.load('/Users/jinjiang-macair/Desktop/DLC/InteractionFrameArrays/Streaker/Streakertest1day3.npz')\n",
    "print('fam session familiar location:', streakerfam1day3['obj1PosArray'])\n",
    "print('int frames:',streakerfam1day3['obj1NumofIntFrames'])\n",
    "print('fam session novel location:',streakerfam1day3['obj2PosArray'])\n",
    "print('int frames:', streakerfam1day3['obj2NumofIntFrames'])\n",
    "\n",
    "print('test session familiar location:',streakertest1day3['obj1PosArray'])\n",
    "print('int frames:', streakertest1day3['obj1NumofIntFrames'])\n",
    "print('test session novel location:',streakertest1day3['obj2PosArray'])\n",
    "print('int frames:', streakertest1day3['obj2NumofIntFrames'])"
   ]
  },
  {
   "cell_type": "code",
   "execution_count": 57,
   "metadata": {
    "scrolled": true
   },
   "outputs": [
    {
     "name": "stdout",
     "output_type": "stream",
     "text": [
      "Streaker Day 3 Session 2\n",
      "fam session familiar location: [[385 121]]\n",
      "int frames: 713\n",
      "fam session novel location: [[179 137]]\n",
      "int frames: 1175\n",
      "test session familiar location: [[380 141]]\n",
      "int frames: 257\n",
      "test session novel location: [[175 367]]\n",
      "int frames: 680\n"
     ]
    }
   ],
   "source": [
    "print(\"Streaker Day 3 Session 2\")\n",
    "streakerfam2day3 = np.load('/Users/jinjiang-macair/Desktop/DLC/InteractionFrameArrays/Streaker/Streakerfam2day3.npz')\n",
    "streakertest2day3 = np.load('/Users/jinjiang-macair/Desktop/DLC/InteractionFrameArrays/Streaker/Streakertest2day3.npz')\n",
    "print('fam session familiar location:', streakerfam2day3['obj1PosArray'])\n",
    "print('int frames:', streakerfam2day3['obj1NumofIntFrames'])\n",
    "print('fam session novel location:',streakerfam2day3['obj2PosArray'])\n",
    "print('int frames:', streakerfam2day3['obj2NumofIntFrames'])\n",
    "\n",
    "print('test session familiar location:',streakertest2day3['obj1PosArray'])\n",
    "print('int frames:', streakertest2day3['obj1NumofIntFrames'])\n",
    "print('test session novel location:',streakertest2day3['obj2PosArray'])\n",
    "print('int frames:', streakertest2day3['obj2NumofIntFrames'])"
   ]
  },
  {
   "cell_type": "code",
   "execution_count": 58,
   "metadata": {},
   "outputs": [
    {
     "name": "stdout",
     "output_type": "stream",
     "text": [
      "Squeaker Day 0\n",
      "fam session familiar location: [[360 137]]\n",
      "int frames: 1016\n",
      "fam session novel location: [[352 314]]\n",
      "int frames: 1067\n",
      "test session familiar location: [[404 150]]\n",
      "int frames: 65\n",
      "test session novel location: [[225 318]]\n",
      "int frames: 900\n"
     ]
    }
   ],
   "source": [
    "print(\"Squeaker Day 0\")\n",
    "squeakerfamday0 = np.load('/Users/jinjiang-macair/Desktop/DLC/InteractionFrameArrays/Squeaker/Squeakerfamday0.npz')\n",
    "squeakertestday0 = np.load('/Users/jinjiang-macair/Desktop/DLC/InteractionFrameArrays/Squeaker/Squeakertestday0.npz')\n",
    "print('fam session familiar location:', squeakerfamday0['obj1PosArray'])\n",
    "print('int frames:',squeakerfamday0['obj1NumofIntFrames'])\n",
    "print('fam session novel location:',squeakerfamday0['obj2PosArray'])\n",
    "print('int frames:', squeakerfamday0['obj2NumofIntFrames'])\n",
    "\n",
    "print('test session familiar location:',squeakertestday0['obj1PosArray'])\n",
    "print('int frames:', squeakertestday0['obj1NumofIntFrames'])\n",
    "print('test session novel location:',squeakertestday0['obj2PosArray'])\n",
    "print('int frames:', squeakertestday0['obj2NumofIntFrames'])"
   ]
  },
  {
   "cell_type": "code",
   "execution_count": 59,
   "metadata": {},
   "outputs": [
    {
     "name": "stdout",
     "output_type": "stream",
     "text": [
      "Squeaker Day 1\n",
      "fam session familiar location: [[422 357]]\n",
      "int frames: 427\n",
      "fam session novel location: [[226 145]]\n",
      "int frames: 1274\n",
      "test session familiar location: [[421 374]]\n",
      "int frames: 461\n",
      "test session novel location: [[209 366]]\n",
      "int frames: 961\n"
     ]
    }
   ],
   "source": [
    "print(\"Squeaker Day 1\")\n",
    "squeakerfamday1 = np.load('/Users/jinjiang-macair/Desktop/DLC/InteractionFrameArrays/Squeaker/Squeakerfamday1.npz')\n",
    "squeakertestday1 = np.load('/Users/jinjiang-macair/Desktop/DLC/InteractionFrameArrays/Squeaker/Squeakertestday1.npz')\n",
    "print('fam session familiar location:', squeakerfamday1['obj1PosArray'])\n",
    "print('int frames:',squeakerfamday1['obj1NumofIntFrames'])\n",
    "print('fam session novel location:',squeakerfamday1['obj2PosArray'])\n",
    "print('int frames:', squeakerfamday1['obj2NumofIntFrames'])\n",
    "\n",
    "print('test session familiar location:',squeakertestday1['obj1PosArray'])\n",
    "print('int frames:', squeakertestday1['obj1NumofIntFrames'])\n",
    "print('test session novel location:',squeakertestday1['obj2PosArray'])\n",
    "print('int frames:', squeakertestday1['obj2NumofIntFrames'])"
   ]
  },
  {
   "cell_type": "code",
   "execution_count": 60,
   "metadata": {
    "scrolled": true
   },
   "outputs": [
    {
     "name": "stdout",
     "output_type": "stream",
     "text": [
      "Squeaker Day 2 Session 1\n",
      "fam session familiar location: [[207 152]]\n",
      "int frames: 1328\n",
      "fam session novel location: [[191 342]]\n",
      "int frames: 3257\n",
      "test session familiar location: [[170 144]]\n",
      "int frames: 623\n",
      "test session novel location: [[377 367]]\n",
      "int frames: 1577\n"
     ]
    }
   ],
   "source": [
    "print(\"Squeaker Day 2 Session 1\")\n",
    "squeakerfam1day2 = np.load('/Users/jinjiang-macair/Desktop/DLC/InteractionFrameArrays/Squeaker/Squeakerfam1day2.npz')\n",
    "squeakertest1day2 = np.load('/Users/jinjiang-macair/Desktop/DLC/InteractionFrameArrays/Squeaker/Squeakertest1day2.npz')\n",
    "print('fam session familiar location:', squeakerfam1day2['obj1PosArray'])\n",
    "print('int frames:',squeakerfam1day2['obj1NumofIntFrames'])\n",
    "print('fam session novel location:',squeakerfam1day2['obj2PosArray'])\n",
    "print('int frames:', squeakerfam1day2['obj2NumofIntFrames'])\n",
    "\n",
    "print('test session familiar location:',squeakertest1day2['obj1PosArray'])\n",
    "print('int frames:', squeakertest1day2['obj1NumofIntFrames'])\n",
    "print('test session novel location:',squeakertest1day2['obj2PosArray'])\n",
    "print('int frames:', squeakertest1day2['obj2NumofIntFrames'])"
   ]
  },
  {
   "cell_type": "code",
   "execution_count": 61,
   "metadata": {},
   "outputs": [
    {
     "name": "stdout",
     "output_type": "stream",
     "text": [
      "Squeaker Day 2 Session 2\n",
      "fam session familiar location: [[183 364]]\n",
      "int frames: 1482\n",
      "fam session novel location: [[389 121]]\n",
      "int frames: 483\n",
      "test session familiar location: [[194 347]]\n",
      "int frames: 935\n",
      "test session novel location: [[185 144]]\n",
      "int frames: 491\n"
     ]
    }
   ],
   "source": [
    "print(\"Squeaker Day 2 Session 2\")\n",
    "squeakerfam2day2 = np.load('/Users/jinjiang-macair/Desktop/DLC/InteractionFrameArrays/Squeaker/Squeakerfam2day2.npz')\n",
    "squeakertest2day2 = np.load('/Users/jinjiang-macair/Desktop/DLC/InteractionFrameArrays/Squeaker/Squeakertest2day2.npz')\n",
    "print('fam session familiar location:', squeakerfam2day2['obj1PosArray'])\n",
    "print('int frames:',squeakerfam2day2['obj1NumofIntFrames'])\n",
    "print('fam session novel location:',squeakerfam2day2['obj2PosArray'])\n",
    "print('int frames:', squeakerfam2day2['obj2NumofIntFrames'])\n",
    "\n",
    "print('test session familiar location:',squeakertest2day2['obj1PosArray'])\n",
    "print('int frames:', squeakertest2day2['obj1NumofIntFrames'])\n",
    "print('test session novel location:',squeakertest2day2['obj2PosArray'])\n",
    "print('int frames:', squeakertest2day2['obj2NumofIntFrames'])"
   ]
  },
  {
   "cell_type": "code",
   "execution_count": 62,
   "metadata": {
    "scrolled": true
   },
   "outputs": [
    {
     "name": "stdout",
     "output_type": "stream",
     "text": [
      "Squeaker Day 3 Session 1\n",
      "Note: he moves the novel location object in the fam session\n",
      "fam session familiar location: [[382 347]]\n",
      "int frames: 1018\n",
      "fam session novel location: [[379 128]]\n",
      "int frames: 1291\n",
      "test session familiar location: [[381 356]]\n",
      "int frames: 0\n",
      "test session novel location: [[188 362]]\n",
      "int frames: 223\n"
     ]
    }
   ],
   "source": [
    "print(\"Squeaker Day 3 Session 1\")\n",
    "print(\"Note: he moves the novel location object in the fam session\")\n",
    "squeakerfam1day3 = np.load('/Users/jinjiang-macair/Desktop/DLC/InteractionFrameArrays/Squeaker/Squeakerfam1day3.npz')\n",
    "squeakertest1day3 = np.load('/Users/jinjiang-macair/Desktop/DLC/InteractionFrameArrays/Squeaker/Squeakertest1day3.npz')\n",
    "print('fam session familiar location:', squeakerfam1day3['obj1PosArray'])\n",
    "print('int frames:',squeakerfam1day3['obj1NumofIntFrames'])\n",
    "print('fam session novel location:',squeakerfam1day3['obj2PosArray'])\n",
    "print('int frames:', squeakerfam1day3['obj2NumofIntFrames'])\n",
    "\n",
    "print('test session familiar location:',squeakertest1day3['obj1PosArray'])\n",
    "print('int frames:', squeakertest1day3['obj1NumofIntFrames'])\n",
    "print('test session novel location:',squeakertest1day3['obj2PosArray'])\n",
    "print('int frames:', squeakertest1day3['obj2NumofIntFrames'])"
   ]
  },
  {
   "cell_type": "code",
   "execution_count": 63,
   "metadata": {
    "scrolled": true
   },
   "outputs": [
    {
     "name": "stdout",
     "output_type": "stream",
     "text": [
      "Squeaker Day 3 Session 2\n",
      "fam session familiar location: [[354 122]]\n",
      "int frames: 167\n",
      "fam session novel location: [[185 128]]\n",
      "int frames: 685\n",
      "test session familiar location: [[394 127]]\n",
      "int frames: 0\n",
      "test session novel location: [[185 361]]\n",
      "int frames: 485\n"
     ]
    }
   ],
   "source": [
    "print(\"Squeaker Day 3 Session 2\")\n",
    "squeakerfam2day3 = np.load('/Users/jinjiang-macair/Desktop/DLC/InteractionFrameArrays/Squeaker/Squeakerfam2day3.npz')\n",
    "squeakertest2day3 = np.load('/Users/jinjiang-macair/Desktop/DLC/InteractionFrameArrays/Squeaker/Squeakertest2day3.npz')\n",
    "print('fam session familiar location:', squeakerfam2day3['obj1PosArray'])\n",
    "print('int frames:', squeakerfam2day3['obj1NumofIntFrames'])\n",
    "print('fam session novel location:',squeakerfam2day3['obj2PosArray'])\n",
    "print('int frames:', squeakerfam2day3['obj2NumofIntFrames'])\n",
    "\n",
    "print('test session familiar location:',squeakertest2day3['obj1PosArray'])\n",
    "print('int frames:', squeakertest2day3['obj1NumofIntFrames'])\n",
    "print('test session novel location:',squeakertest2day3['obj2PosArray'])\n",
    "print('int frames:', squeakertest2day3['obj2NumofIntFrames'])"
   ]
  },
  {
   "cell_type": "code",
   "execution_count": 64,
   "metadata": {
    "scrolled": true
   },
   "outputs": [
    {
     "name": "stdout",
     "output_type": "stream",
     "text": [
      "Island Day 1\n",
      "fam session familiar location: [[366 285]]\n",
      "int frames: 1641\n",
      "fam session novel location: [[379 170]]\n",
      "int frames: 585\n",
      "test session familiar location: [[365 285]]\n",
      "int frames: 444\n",
      "test session novel location: [[249 290]]\n",
      "int frames: 697\n"
     ]
    }
   ],
   "source": [
    "print(\"Island Day 1\")\n",
    "islandfamday1 = np.load('/Users/jinjiang-macair/Desktop/DLC/InteractionFrameArrays/Island/Islandfamday1.npz')\n",
    "islandtestday1 = np.load('/Users/jinjiang-macair/Desktop/DLC/InteractionFrameArrays/Island/Islandtestday1.npz')\n",
    "print('fam session familiar location:', islandfamday1['obj1PosArray'])\n",
    "print('int frames:',islandfamday1['obj1NumofIntFrames'])\n",
    "print('fam session novel location:',islandfamday1['obj2PosArray'])\n",
    "print('int frames:', islandfamday1['obj2NumofIntFrames'])\n",
    "\n",
    "print('test session familiar location:',islandtestday1['obj1PosArray'])\n",
    "print('int frames:', islandtestday1['obj1NumofIntFrames'])\n",
    "print('test session novel location:',islandtestday1['obj2PosArray'])\n",
    "print('int frames:', islandtestday1['obj2NumofIntFrames'])"
   ]
  },
  {
   "cell_type": "code",
   "execution_count": 65,
   "metadata": {
    "scrolled": true
   },
   "outputs": [
    {
     "name": "stdout",
     "output_type": "stream",
     "text": [
      "Island Day 2\n",
      "fam session familiar location: [[261 122]]\n",
      "int frames: 1412\n",
      "fam session novel location: [[375 306]]\n",
      "int frames: 489\n",
      "test session familiar location: [[263 121]]\n",
      "int frames: 548\n",
      "test session novel location: [[258 295]]\n",
      "int frames: 801\n"
     ]
    }
   ],
   "source": [
    "print(\"Island Day 2\")\n",
    "islandfamday2 = np.load('/Users/jinjiang-macair/Desktop/DLC/InteractionFrameArrays/Island/Islandfamday2.npz')\n",
    "islandtestday2 = np.load('/Users/jinjiang-macair/Desktop/DLC/InteractionFrameArrays/Island/Islandtestday2.npz')\n",
    "print('fam session familiar location:', islandfamday2['obj1PosArray'])\n",
    "print('int frames:',islandfamday2['obj1NumofIntFrames'])\n",
    "print('fam session novel location:',islandfamday2['obj2PosArray'])\n",
    "print('int frames:', islandfamday2['obj2NumofIntFrames'])\n",
    "\n",
    "print('test session familiar location:',islandtestday2['obj1PosArray'])\n",
    "print('int frames:', islandtestday2['obj1NumofIntFrames'])\n",
    "print('test session novel location:',islandtestday2['obj2PosArray'])\n",
    "print('int frames:', islandtestday2['obj2NumofIntFrames'])"
   ]
  },
  {
   "cell_type": "code",
   "execution_count": 66,
   "metadata": {},
   "outputs": [
    {
     "name": "stdout",
     "output_type": "stream",
     "text": [
      "Island Day 4\n",
      "fam session familiar location: [[249 142]]\n",
      "int frames: 834\n",
      "fam session novel location: [[235 333]]\n",
      "int frames: 887\n",
      "test session familiar location: [[250 143]]\n",
      "int frames: 316\n",
      "test session novel location: [[376 150]]\n",
      "int frames: 771\n"
     ]
    }
   ],
   "source": [
    "print(\"Island Day 4\")\n",
    "islandfamday4 = np.load('/Users/jinjiang-macair/Desktop/DLC/InteractionFrameArrays/Island/Islandfamday4.npz')\n",
    "islandtestday4 = np.load('/Users/jinjiang-macair/Desktop/DLC/InteractionFrameArrays/Island/Islandtestday4.npz')\n",
    "print('fam session familiar location:', islandfamday4['obj1PosArray'])\n",
    "print('int frames:',islandfamday4['obj1NumofIntFrames'])\n",
    "print('fam session novel location:',islandfamday4['obj2PosArray'])\n",
    "print('int frames:', islandfamday4['obj2NumofIntFrames'])\n",
    "\n",
    "print('test session familiar location:',islandtestday4['obj1PosArray'])\n",
    "print('int frames:', islandtestday4['obj1NumofIntFrames'])\n",
    "print('test session novel location:',islandtestday4['obj2PosArray'])\n",
    "print('int frames:', islandtestday4['obj2NumofIntFrames'])"
   ]
  },
  {
   "cell_type": "code",
   "execution_count": 67,
   "metadata": {},
   "outputs": [
    {
     "name": "stdout",
     "output_type": "stream",
     "text": [
      "JunePhatRat Day 1\n",
      "fam session familiar location: [[237 315]]\n",
      "int frames: 3490\n",
      "fam session novel location: [[226 149]]\n",
      "int frames: 2945\n",
      "test session familiar location: [[237 315]]\n",
      "int frames: 1424\n",
      "test session novel location: [[362 298]]\n",
      "int frames: 2668\n"
     ]
    }
   ],
   "source": [
    "print(\"JunePhatRat Day 1\")\n",
    "junefamday1 = np.load('/Users/jinjiang-macair/Desktop/DLC/InteractionFrameArrays/JunePhatRat/junefamday1.npz')\n",
    "junetestday1 = np.load('/Users/jinjiang-macair/Desktop/DLC/InteractionFrameArrays/JunePhatRat/junetestday1.npz')\n",
    "print('fam session familiar location:', junefamday1['obj1PosArray'])\n",
    "print('int frames:',junefamday1['obj1NumofIntFrames'])\n",
    "print('fam session novel location:',junefamday1['obj2PosArray'])\n",
    "print('int frames:', junefamday1['obj2NumofIntFrames'])\n",
    "\n",
    "print('test session familiar location:',junetestday1['obj1PosArray'])\n",
    "print('int frames:', junetestday1['obj1NumofIntFrames'])\n",
    "print('test session novel location:',junetestday1['obj2PosArray'])\n",
    "print('int frames:', junetestday1['obj2NumofIntFrames'])"
   ]
  },
  {
   "cell_type": "code",
   "execution_count": 68,
   "metadata": {
    "scrolled": true
   },
   "outputs": [
    {
     "name": "stdout",
     "output_type": "stream",
     "text": [
      "JunePhatRat Day 2\n",
      "fam session familiar location: [[377 169]]\n",
      "int frames: 487\n",
      "fam session novel location: [[253 300]]\n",
      "int frames: 1690\n",
      "test session familiar location: [[376 172]]\n",
      "int frames: 513\n",
      "test session novel location: [[242 171]]\n",
      "int frames: 1042\n"
     ]
    }
   ],
   "source": [
    "print(\"JunePhatRat Day 2\")\n",
    "junefamday2 = np.load('/Users/jinjiang-macair/Desktop/DLC/InteractionFrameArrays/JunePhatRat/junefamday2.npz')\n",
    "junetestday2 = np.load('/Users/jinjiang-macair/Desktop/DLC/InteractionFrameArrays/JunePhatRat/junetestday2.npz')\n",
    "print('fam session familiar location:', junefamday2['obj1PosArray'])\n",
    "print('int frames:',junefamday2['obj1NumofIntFrames'])\n",
    "print('fam session novel location:',junefamday2['obj2PosArray'])\n",
    "print('int frames:', junefamday2['obj2NumofIntFrames'])\n",
    "\n",
    "print('test session familiar location:',junetestday2['obj1PosArray'])\n",
    "print('int frames:', junetestday2['obj1NumofIntFrames'])\n",
    "print('test session novel location:',junetestday2['obj2PosArray'])\n",
    "print('int frames:', junetestday2['obj2NumofIntFrames'])"
   ]
  },
  {
   "cell_type": "code",
   "execution_count": 69,
   "metadata": {},
   "outputs": [
    {
     "name": "stdout",
     "output_type": "stream",
     "text": [
      "JunePhatRat Day 3 Session 1\n",
      "fam session familiar location: [[238 314]]\n",
      "int frames: 1899\n",
      "fam session novel location: [[367 317]]\n",
      "int frames: 1313\n",
      "test session familiar location: [[240 316]]\n",
      "int frames: 1327\n",
      "test session novel location: [[383 155]]\n",
      "int frames: 1430\n"
     ]
    }
   ],
   "source": [
    "print(\"JunePhatRat Day 3 Session 1\")\n",
    "junefam1day3 = np.load('/Users/jinjiang-macair/Desktop/DLC/InteractionFrameArrays/JunePhatRat/junefam1day3.npz')\n",
    "junetest1day3 = np.load('/Users/jinjiang-macair/Desktop/DLC/InteractionFrameArrays/JunePhatRat/junetest1day3.npz')\n",
    "print('fam session familiar location:', junefam1day3['obj1PosArray'])\n",
    "print('int frames:',junefam1day3['obj1NumofIntFrames'])\n",
    "print('fam session novel location:',junefam1day3['obj2PosArray'])\n",
    "print('int frames:', junefam1day3['obj2NumofIntFrames'])\n",
    "\n",
    "print('test session familiar location:',junetest1day3['obj1PosArray'])\n",
    "print('int frames:', junetest1day3['obj1NumofIntFrames'])\n",
    "print('test session novel location:',junetest1day3['obj2PosArray'])\n",
    "print('int frames:', junetest1day3['obj2NumofIntFrames'])"
   ]
  },
  {
   "cell_type": "code",
   "execution_count": 70,
   "metadata": {
    "scrolled": true
   },
   "outputs": [
    {
     "name": "stdout",
     "output_type": "stream",
     "text": [
      "JunePhatRat Day 3 Session 2\n",
      "fam session familiar location: [[383 140]]\n",
      "int frames: 548\n",
      "fam session novel location: [[241 304]]\n",
      "int frames: 2231\n",
      "test session familiar location: [[381 140]]\n",
      "int frames: 338\n",
      "test session novel location: [[237 146]]\n",
      "int frames: 1678\n"
     ]
    }
   ],
   "source": [
    "print(\"JunePhatRat Day 3 Session 2\")\n",
    "junefam2day3 = np.load('/Users/jinjiang-macair/Desktop/DLC/InteractionFrameArrays/JunePhatRat/junefam2day3.npz')\n",
    "junetest2day3 = np.load('/Users/jinjiang-macair/Desktop/DLC/InteractionFrameArrays/JunePhatRat/junetest2day3.npz')\n",
    "print('fam session familiar location:', junefam2day3['obj1PosArray'])\n",
    "print('int frames:',junefam2day3['obj1NumofIntFrames'])\n",
    "print('fam session novel location:',junefam2day3['obj2PosArray'])\n",
    "print('int frames:', junefam2day3['obj2NumofIntFrames'])\n",
    "\n",
    "print('test session familiar location:',junetest2day3['obj1PosArray'])\n",
    "print('int frames:', junetest2day3['obj1NumofIntFrames'])\n",
    "print('test session novel location:',junetest2day3['obj2PosArray'])\n",
    "print('int frames:', junetest2day3['obj2NumofIntFrames'])"
   ]
  },
  {
   "cell_type": "code",
   "execution_count": 71,
   "metadata": {},
   "outputs": [
    {
     "name": "stdout",
     "output_type": "stream",
     "text": [
      "JunePhatRat Day 4\n",
      "fam session familiar location: [[249 312]]\n",
      "int frames: 688\n",
      "fam session novel location: [[251 160]]\n",
      "int frames: 918\n",
      "test session familiar location: [[246 311]]\n",
      "int frames: 465\n",
      "test session novel location: [[363 308]]\n",
      "int frames: 1380\n"
     ]
    }
   ],
   "source": [
    "print(\"JunePhatRat Day 4\")\n",
    "junefamday4 = np.load('/Users/jinjiang-macair/Desktop/DLC/InteractionFrameArrays/JunePhatRat/junefamday4.npz')\n",
    "junetestday4 = np.load('/Users/jinjiang-macair/Desktop/DLC/InteractionFrameArrays/JunePhatRat/junetestday4.npz')\n",
    "print('fam session familiar location:', junefamday4['obj1PosArray'])\n",
    "print('int frames:',junefamday4['obj1NumofIntFrames'])\n",
    "print('fam session novel location:',junefamday4['obj2PosArray'])\n",
    "print('int frames:', junefamday4['obj2NumofIntFrames'])\n",
    "\n",
    "print('test session familiar location:',junetestday4['obj1PosArray'])\n",
    "print('int frames:', junetestday4['obj1NumofIntFrames'])\n",
    "print('test session novel location:',junetestday4['obj2PosArray'])\n",
    "print('int frames:', junetestday4['obj2NumofIntFrames'])"
   ]
  },
  {
   "cell_type": "code",
   "execution_count": 72,
   "metadata": {},
   "outputs": [
    {
     "name": "stdout",
     "output_type": "stream",
     "text": [
      "FinalControl Day 1\n",
      "fam session familiar location: [[363 313]]\n",
      "int frames: 2068\n",
      "fam session novel location: [[241 162]]\n",
      "int frames: 790\n",
      "test session familiar location: [[357 312]]\n",
      "int frames: 177\n",
      "test session novel location: [[367 148]]\n",
      "int frames: 487\n"
     ]
    }
   ],
   "source": [
    "print(\"FinalControl Day 1\")\n",
    "FinalControlfamday1 = np.load('/Users/jinjiang-macair/Desktop/DLC/InteractionFrameArrays/FinalControl/FinalControlfamday1.npz')\n",
    "FinalControltestday1 = np.load('/Users/jinjiang-macair/Desktop/DLC/InteractionFrameArrays/FinalControl/FinalControltestday1.npz')\n",
    "print('fam session familiar location:', FinalControlfamday1['obj1PosArray'])\n",
    "print('int frames:',FinalControlfamday1['obj1NumofIntFrames'])\n",
    "print('fam session novel location:',FinalControlfamday1['obj2PosArray'])\n",
    "print('int frames:', FinalControlfamday1['obj2NumofIntFrames'])\n",
    "\n",
    "print('test session familiar location:',FinalControltestday1['obj1PosArray'])\n",
    "print('int frames:', FinalControltestday1['obj1NumofIntFrames'])\n",
    "print('test session novel location:',FinalControltestday1['obj2PosArray'])\n",
    "print('int frames:', FinalControltestday1['obj2NumofIntFrames'])"
   ]
  },
  {
   "cell_type": "code",
   "execution_count": 73,
   "metadata": {},
   "outputs": [
    {
     "name": "stdout",
     "output_type": "stream",
     "text": [
      "FinalControl Day 2\n",
      "fam session familiar location: [[369 151]]\n",
      "int frames: 1940\n",
      "fam session novel location: [[361 299]]\n",
      "int frames: 1668\n",
      "test session familiar location: [[363 147]]\n",
      "int frames: 1260\n",
      "test session novel location: [[236 153]]\n",
      "int frames: 733\n"
     ]
    }
   ],
   "source": [
    "print(\"FinalControl Day 2\")\n",
    "FinalControlfamday2 = np.load('/Users/jinjiang-macair/Desktop/DLC/InteractionFrameArrays/FinalControl/FinalControlfamday2.npz')\n",
    "FinalControltestday2 = np.load('/Users/jinjiang-macair/Desktop/DLC/InteractionFrameArrays/FinalControl/FinalControltestday2.npz')\n",
    "print('fam session familiar location:', FinalControlfamday2['obj1PosArray'])\n",
    "print('int frames:',FinalControlfamday2['obj1NumofIntFrames'])\n",
    "print('fam session novel location:',FinalControlfamday2['obj2PosArray'])\n",
    "print('int frames:', FinalControlfamday2['obj2NumofIntFrames'])\n",
    "\n",
    "print('test session familiar location:',FinalControltestday2['obj1PosArray'])\n",
    "print('int frames:', FinalControltestday2['obj1NumofIntFrames'])\n",
    "print('test session novel location:',FinalControltestday2['obj2PosArray'])\n",
    "print('int frames:', FinalControltestday2['obj2NumofIntFrames'])"
   ]
  },
  {
   "cell_type": "code",
   "execution_count": 74,
   "metadata": {},
   "outputs": [
    {
     "name": "stdout",
     "output_type": "stream",
     "text": [
      "FinalControl Day 3\n",
      "fam session familiar location: [[353 159]]\n",
      "int frames: 1684\n",
      "fam session novel location: [[344 293]]\n",
      "int frames: 3590\n",
      "test session familiar location: [[352 157]]\n",
      "int frames: 1315\n",
      "test session novel location: [[229 324]]\n",
      "int frames: 1942\n"
     ]
    }
   ],
   "source": [
    "print(\"FinalControl Day 3\")\n",
    "FinalControlfamday3 = np.load('/Users/jinjiang-macair/Desktop/DLC/InteractionFrameArrays/FinalControl/FinalControlfamday3.npz')\n",
    "FinalControltestday3 = np.load('/Users/jinjiang-macair/Desktop/DLC/InteractionFrameArrays/FinalControl/FinalControltestday3.npz')\n",
    "print('fam session familiar location:', FinalControlfamday3['obj1PosArray'])\n",
    "print('int frames:',FinalControlfamday3['obj1NumofIntFrames'])\n",
    "print('fam session novel location:',FinalControlfamday3['obj2PosArray'])\n",
    "print('int frames:', FinalControlfamday3['obj2NumofIntFrames'])\n",
    "\n",
    "print('test session familiar location:',FinalControltestday3['obj1PosArray'])\n",
    "print('int frames:', FinalControltestday3['obj1NumofIntFrames'])\n",
    "print('test session novel location:',FinalControltestday3['obj2PosArray'])\n",
    "print('int frames:', FinalControltestday3['obj2NumofIntFrames'])"
   ]
  },
  {
   "cell_type": "code",
   "execution_count": 75,
   "metadata": {},
   "outputs": [
    {
     "name": "stdout",
     "output_type": "stream",
     "text": [
      "FinalControl Day 4 Session 1\n",
      "fam session familiar location: [[220 147]]\n",
      "int frames: 316\n",
      "fam session novel location: [[226 296]]\n",
      "int frames: 1825\n",
      "test session familiar location: [[224 149]]\n",
      "int frames: 571\n",
      "test session novel location: [[360 154]]\n",
      "int frames: 503\n"
     ]
    }
   ],
   "source": [
    "print(\"FinalControl Day 4 Session 1\")\n",
    "FinalControlfam1day4 = np.load('/Users/jinjiang-macair/Desktop/DLC/InteractionFrameArrays/FinalControl/FinalControlfam1day4.npz')\n",
    "FinalControltest1day4 = np.load('/Users/jinjiang-macair/Desktop/DLC/InteractionFrameArrays/FinalControl/FinalControltest1day4.npz')\n",
    "print('fam session familiar location:', FinalControlfam1day4['obj1PosArray'])\n",
    "print('int frames:',FinalControlfam1day4['obj1NumofIntFrames'])\n",
    "print('fam session novel location:',FinalControlfam1day4['obj2PosArray'])\n",
    "print('int frames:', FinalControlfam1day4['obj2NumofIntFrames'])\n",
    "\n",
    "print('test session familiar location:',FinalControltest1day4['obj1PosArray'])\n",
    "print('int frames:', FinalControltest1day4['obj1NumofIntFrames'])\n",
    "print('test session novel location:',FinalControltest1day4['obj2PosArray'])\n",
    "print('int frames:', FinalControltest1day4['obj2NumofIntFrames'])"
   ]
  },
  {
   "cell_type": "code",
   "execution_count": 76,
   "metadata": {},
   "outputs": [
    {
     "name": "stdout",
     "output_type": "stream",
     "text": [
      "FinalControl Day 4 Session 2\n",
      "fam session familiar location: [[226 155]]\n",
      "int frames: 1460\n",
      "fam session novel location: [[341 163]]\n",
      "int frames: 7455\n",
      "test session familiar location: [[225 150]]\n",
      "int frames: 1770\n",
      "test session novel location: [[369 309]]\n",
      "int frames: 1937\n"
     ]
    }
   ],
   "source": [
    "print(\"FinalControl Day 4 Session 2\")\n",
    "FinalControlfam2day4 = np.load('/Users/jinjiang-macair/Desktop/DLC/InteractionFrameArrays/FinalControl/FinalControlfam2day4.npz')\n",
    "FinalControltest2day4 = np.load('/Users/jinjiang-macair/Desktop/DLC/InteractionFrameArrays/FinalControl/FinalControltest2day4.npz')\n",
    "print('fam session familiar location:', FinalControlfam2day4['obj1PosArray'])\n",
    "print('int frames:',FinalControlfam2day4['obj1NumofIntFrames'])\n",
    "print('fam session novel location:',FinalControlfam2day4['obj2PosArray'])\n",
    "print('int frames:', FinalControlfam2day4['obj2NumofIntFrames'])\n",
    "\n",
    "print('test session familiar location:',FinalControltest2day4['obj1PosArray'])\n",
    "print('int frames:', FinalControltest2day4['obj1NumofIntFrames'])\n",
    "print('test session novel location:',FinalControltest2day4['obj2PosArray'])\n",
    "print('int frames:', FinalControltest2day4['obj2NumofIntFrames'])"
   ]
  },
  {
   "cell_type": "code",
   "execution_count": 77,
   "metadata": {},
   "outputs": [
    {
     "name": "stdout",
     "output_type": "stream",
     "text": [
      "FinalControl Day 5\n",
      "fam session familiar location: [[234 324]]\n",
      "int frames: 666\n",
      "fam session novel location: [[247 148]]\n",
      "int frames: 214\n",
      "test session familiar location: [[236 320]]\n",
      "int frames: 511\n",
      "test session novel location: [[380 141]]\n",
      "int frames: 359\n"
     ]
    }
   ],
   "source": [
    "print(\"FinalControl Day 5\")\n",
    "FinalControlfamday5 = np.load('/Users/jinjiang-macair/Desktop/DLC/InteractionFrameArrays/FinalControl/FinalControlfamday5.npz')\n",
    "FinalControltestday5 = np.load('/Users/jinjiang-macair/Desktop/DLC/InteractionFrameArrays/FinalControl/FinalControltestday5.npz')\n",
    "print('fam session familiar location:', FinalControlfamday5['obj1PosArray'])\n",
    "print('int frames:',FinalControlfamday5['obj1NumofIntFrames'])\n",
    "print('fam session novel location:',FinalControlfamday5['obj2PosArray'])\n",
    "print('int frames:', FinalControlfamday5['obj2NumofIntFrames'])\n",
    "\n",
    "print('test session familiar location:',FinalControltestday5['obj1PosArray'])\n",
    "print('int frames:', FinalControltestday5['obj1NumofIntFrames'])\n",
    "print('test session novel location:',FinalControltestday5['obj2PosArray'])\n",
    "print('int frames:', FinalControltestday5['obj2NumofIntFrames'])"
   ]
  },
  {
   "cell_type": "markdown",
   "metadata": {},
   "source": [
    "# Quick novelty preference plots\n",
    "$\\frac{(nov-fam)}{(nov+fam)}$<br>\n",
    "Carr-Larkin Hippocampus 2014"
   ]
  },
  {
   "cell_type": "code",
   "execution_count": 78,
   "metadata": {},
   "outputs": [],
   "source": [
    "famControl = np.array([streakerfamday0['obj1NumofIntFrames'], streakerfamday1['obj1NumofIntFrames'], streakerfam1day2['obj1NumofIntFrames'], streakerfam2day2['obj1NumofIntFrames'], streakerfam1day3['obj1NumofIntFrames'], streakerfam2day3['obj1NumofIntFrames'], squeakerfamday0['obj1NumofIntFrames'], squeakerfamday1['obj1NumofIntFrames'], squeakerfam1day2['obj1NumofIntFrames'], squeakerfam2day2['obj1NumofIntFrames'], squeakerfam1day3['obj1NumofIntFrames'], squeakerfam2day3['obj1NumofIntFrames'], islandfamday1['obj1NumofIntFrames'], islandfamday2['obj1NumofIntFrames'], islandfamday4['obj1NumofIntFrames'],junefamday1['obj1NumofIntFrames'],junefamday2['obj1NumofIntFrames'], junefam1day3['obj1NumofIntFrames'], junefam2day3['obj1NumofIntFrames'], junefamday4['obj1NumofIntFrames'], FinalControlfamday1['obj1NumofIntFrames'], FinalControlfamday2['obj1NumofIntFrames'], FinalControlfamday3['obj1NumofIntFrames'], FinalControlfam1day4['obj1NumofIntFrames'], FinalControlfam2day4['obj1NumofIntFrames'], FinalControlfamday5['obj1NumofIntFrames']])\n",
    "novControl = np.array([streakerfamday0['obj2NumofIntFrames'], streakerfamday1['obj2NumofIntFrames'], streakerfam1day2['obj2NumofIntFrames'], streakerfam2day2['obj2NumofIntFrames'], streakerfam1day3['obj2NumofIntFrames'], streakerfam2day3['obj2NumofIntFrames'], squeakerfamday0['obj2NumofIntFrames'], squeakerfamday1['obj2NumofIntFrames'], squeakerfam1day2['obj2NumofIntFrames'], squeakerfam2day2['obj2NumofIntFrames'], squeakerfam1day3['obj2NumofIntFrames'], squeakerfam2day3['obj2NumofIntFrames'], islandfamday1['obj2NumofIntFrames'], islandfamday2['obj2NumofIntFrames'], islandfamday4['obj2NumofIntFrames'],junefamday1['obj2NumofIntFrames'],junefamday2['obj2NumofIntFrames'], junefam1day3['obj2NumofIntFrames'], junefam2day3['obj2NumofIntFrames'], junefamday4['obj2NumofIntFrames'], FinalControlfamday1['obj2NumofIntFrames'], FinalControlfamday2['obj2NumofIntFrames'], FinalControlfamday3['obj2NumofIntFrames'], FinalControlfam1day4['obj2NumofIntFrames'], FinalControlfam2day4['obj2NumofIntFrames'], FinalControlfamday5['obj2NumofIntFrames']])\n",
    "\n",
    "jimfamControl = np.array([streakerfamday0['obj1NumofIntFrames'], streakerfamday1['obj1NumofIntFrames'], streakerfam1day2['obj1NumofIntFrames'], streakerfam2day2['obj1NumofIntFrames'], streakerfam1day3['obj1NumofIntFrames'], streakerfam2day3['obj1NumofIntFrames'], squeakerfamday0['obj1NumofIntFrames'], squeakerfamday1['obj1NumofIntFrames'], squeakerfam1day2['obj1NumofIntFrames'], squeakerfam2day2['obj1NumofIntFrames'], squeakerfam1day3['obj1NumofIntFrames'], squeakerfam2day3['obj1NumofIntFrames']])\n",
    "jimnovControl = np.array([streakerfamday0['obj2NumofIntFrames'], streakerfamday1['obj2NumofIntFrames'], streakerfam1day2['obj2NumofIntFrames'], streakerfam2day2['obj2NumofIntFrames'], streakerfam1day3['obj2NumofIntFrames'], streakerfam2day3['obj2NumofIntFrames'], squeakerfamday0['obj2NumofIntFrames'], squeakerfamday1['obj2NumofIntFrames'], squeakerfam1day2['obj2NumofIntFrames'], squeakerfam2day2['obj2NumofIntFrames'], squeakerfam1day3['obj2NumofIntFrames'], squeakerfam2day3['obj2NumofIntFrames']])\n",
    "\n",
    "shayfamControl = np.array([islandfamday1['obj1NumofIntFrames'], islandfamday2['obj1NumofIntFrames'], islandfamday4['obj1NumofIntFrames'],junefamday1['obj1NumofIntFrames'],junefamday2['obj1NumofIntFrames'], junefam1day3['obj1NumofIntFrames'], junefam2day3['obj1NumofIntFrames'], junefamday4['obj1NumofIntFrames'], FinalControlfamday1['obj1NumofIntFrames'], FinalControlfamday2['obj1NumofIntFrames'], FinalControlfamday3['obj1NumofIntFrames'], FinalControlfam1day4['obj1NumofIntFrames'], FinalControlfam2day4['obj1NumofIntFrames'], FinalControlfamday5['obj1NumofIntFrames']])\n",
    "shaynovControl = np.array([islandfamday1['obj2NumofIntFrames'], islandfamday2['obj2NumofIntFrames'], islandfamday4['obj2NumofIntFrames'],junefamday1['obj2NumofIntFrames'],junefamday2['obj2NumofIntFrames'], junefam1day3['obj2NumofIntFrames'], junefam2day3['obj2NumofIntFrames'], junefamday4['obj2NumofIntFrames'], FinalControlfamday1['obj2NumofIntFrames'], FinalControlfamday2['obj2NumofIntFrames'], FinalControlfamday3['obj2NumofIntFrames'], FinalControlfam1day4['obj2NumofIntFrames'], FinalControlfam2day4['obj2NumofIntFrames'], FinalControlfamday5['obj2NumofIntFrames']])\n",
    "\n",
    "plotMeCtrl = (novControl-famControl)/(famControl+novControl)\n",
    "plotMejimCtrl = (jimnovControl - jimfamControl)/(jimfamControl+jimnovControl)\n",
    "plotMeshayCtrl = (shaynovControl - shayfamControl)/(shayfamControl+shaynovControl)\n"
   ]
  },
  {
   "cell_type": "code",
   "execution_count": 79,
   "metadata": {},
   "outputs": [
    {
     "data": {
      "text/plain": [
       "array([ 0.39039666, -0.01213101,  0.74118231,  0.08884956, -0.28324873,\n",
       "        0.24470339,  0.02448392,  0.49794239,  0.42071974, -0.50839695,\n",
       "        0.118233  ,  0.60798122, -0.47439353, -0.48553393,  0.03079605,\n",
       "       -0.08469308,  0.55259531, -0.18244085,  0.60561353,  0.14321295,\n",
       "       -0.44716585, -0.07538803,  0.36139553,  0.70481084,  0.67246214,\n",
       "       -0.51363636])"
      ]
     },
     "execution_count": 79,
     "metadata": {},
     "output_type": "execute_result"
    }
   ],
   "source": [
    "plotMeCtrl"
   ]
  },
  {
   "cell_type": "code",
   "execution_count": 80,
   "metadata": {},
   "outputs": [],
   "source": [
    "famTest = np.array([streakertestday0['obj1NumofIntFrames'], streakertestday1['obj1NumofIntFrames'], streakertest1day2['obj1NumofIntFrames'], streakertest2day2['obj1NumofIntFrames'], streakertest1day3['obj1NumofIntFrames'], streakertest2day3['obj1NumofIntFrames'], squeakertestday0['obj1NumofIntFrames'], squeakertestday1['obj1NumofIntFrames'], squeakertest1day2['obj1NumofIntFrames'], squeakertest2day2['obj1NumofIntFrames'], squeakertest1day3['obj1NumofIntFrames'], squeakertest2day3['obj1NumofIntFrames'], islandtestday1['obj1NumofIntFrames'], islandtestday2['obj1NumofIntFrames'], islandtestday4['obj1NumofIntFrames'],junetestday1['obj1NumofIntFrames'],junetestday2['obj1NumofIntFrames'], junetest1day3['obj1NumofIntFrames'], junetest2day3['obj1NumofIntFrames'], junetestday4['obj1NumofIntFrames'], FinalControltestday1['obj1NumofIntFrames'], FinalControltestday2['obj1NumofIntFrames'], FinalControltestday3['obj1NumofIntFrames'], FinalControltest1day4['obj1NumofIntFrames'], FinalControltest2day4['obj1NumofIntFrames'], FinalControltestday5['obj1NumofIntFrames']])\n",
    "novTest = np.array([streakertestday0['obj2NumofIntFrames'], streakertestday1['obj2NumofIntFrames'], streakertest1day2['obj2NumofIntFrames'], streakertest2day2['obj2NumofIntFrames'], streakertest1day3['obj2NumofIntFrames'], streakertest2day3['obj2NumofIntFrames'], squeakertestday0['obj2NumofIntFrames'], squeakertestday1['obj2NumofIntFrames'], squeakertest1day2['obj2NumofIntFrames'], squeakertest2day2['obj2NumofIntFrames'], squeakertest1day3['obj2NumofIntFrames'], squeakertest2day3['obj2NumofIntFrames'], islandtestday1['obj2NumofIntFrames'], islandtestday2['obj2NumofIntFrames'], islandtestday4['obj2NumofIntFrames'],junetestday1['obj2NumofIntFrames'],junetestday2['obj2NumofIntFrames'], junetest1day3['obj2NumofIntFrames'], junetest2day3['obj2NumofIntFrames'], junetestday4['obj2NumofIntFrames'], FinalControltestday1['obj2NumofIntFrames'], FinalControltestday2['obj2NumofIntFrames'], FinalControltestday3['obj2NumofIntFrames'], FinalControltest1day4['obj2NumofIntFrames'], FinalControltest2day4['obj2NumofIntFrames'], FinalControltestday5['obj2NumofIntFrames']])\n",
    "plotMeTest = (novTest-famTest)/(famTest+novTest)\n",
    "\n",
    "jimfamTest = np.array([streakertestday0['obj1NumofIntFrames'], streakertestday1['obj1NumofIntFrames'], streakertest1day2['obj1NumofIntFrames'], streakertest2day2['obj1NumofIntFrames'], streakertest1day3['obj1NumofIntFrames'], streakertest2day3['obj1NumofIntFrames'], squeakertestday0['obj1NumofIntFrames'], squeakertestday1['obj1NumofIntFrames'], squeakertest1day2['obj1NumofIntFrames'], squeakertest2day2['obj1NumofIntFrames'], squeakertest1day3['obj1NumofIntFrames'], squeakertest2day3['obj1NumofIntFrames']])\n",
    "jimnovTest = np.array([streakertestday0['obj2NumofIntFrames'], streakertestday1['obj2NumofIntFrames'], streakertest1day2['obj2NumofIntFrames'], streakertest2day2['obj2NumofIntFrames'], streakertest1day3['obj2NumofIntFrames'], streakertest2day3['obj2NumofIntFrames'], squeakertestday0['obj2NumofIntFrames'], squeakertestday1['obj2NumofIntFrames'], squeakertest1day2['obj2NumofIntFrames'], squeakertest2day2['obj2NumofIntFrames'], squeakertest1day3['obj2NumofIntFrames'], squeakertest2day3['obj2NumofIntFrames']])\n",
    "plotMejimTest = (jimnovTest - jimfamTest) / (jimfamTest + jimnovTest)\n",
    "\n",
    "shayfamTest = np.array([islandtestday1['obj1NumofIntFrames'], islandtestday2['obj1NumofIntFrames'], islandtestday4['obj1NumofIntFrames'],junetestday1['obj1NumofIntFrames'],junetestday2['obj1NumofIntFrames'], junetest1day3['obj1NumofIntFrames'], junetest2day3['obj1NumofIntFrames'], junetestday4['obj1NumofIntFrames'], FinalControltestday1['obj1NumofIntFrames'], FinalControltestday2['obj1NumofIntFrames'], FinalControltestday3['obj1NumofIntFrames'], FinalControltest1day4['obj1NumofIntFrames'], FinalControltest2day4['obj1NumofIntFrames'], FinalControltestday5['obj1NumofIntFrames']])\n",
    "shaynovTest = np.array([islandtestday1['obj2NumofIntFrames'], islandtestday2['obj2NumofIntFrames'], islandtestday4['obj2NumofIntFrames'],junetestday1['obj2NumofIntFrames'],junetestday2['obj2NumofIntFrames'], junetest1day3['obj2NumofIntFrames'], junetest2day3['obj2NumofIntFrames'], junetestday4['obj2NumofIntFrames'], FinalControltestday1['obj2NumofIntFrames'], FinalControltestday2['obj2NumofIntFrames'], FinalControltestday3['obj2NumofIntFrames'], FinalControltest1day4['obj2NumofIntFrames'], FinalControltest2day4['obj2NumofIntFrames'], FinalControltestday5['obj2NumofIntFrames']])\n",
    "plotMeshayTest = (shaynovTest - shayfamTest) / (shayfamTest + shaynovTest)"
   ]
  },
  {
   "cell_type": "code",
   "execution_count": 81,
   "metadata": {},
   "outputs": [
    {
     "data": {
      "text/plain": [
       "array([ 0.22173532,  0.18754633,  0.41858326,  0.30400782,  0.34019293,\n",
       "        0.03735945,  0.66468254,  0.49593496,  0.46686747, -0.26442549,\n",
       "        0.19250844, -0.06331471,  0.04504991, -0.17471264])"
      ]
     },
     "execution_count": 81,
     "metadata": {},
     "output_type": "execute_result"
    }
   ],
   "source": [
    "plotMeshayTest"
   ]
  },
  {
   "cell_type": "code",
   "execution_count": 82,
   "metadata": {},
   "outputs": [],
   "source": [
    "import seaborn as sns"
   ]
  },
  {
   "cell_type": "code",
   "execution_count": 83,
   "metadata": {},
   "outputs": [
    {
     "data": {
      "text/html": [
       "<div>\n",
       "<style scoped>\n",
       "    .dataframe tbody tr th:only-of-type {\n",
       "        vertical-align: middle;\n",
       "    }\n",
       "\n",
       "    .dataframe tbody tr th {\n",
       "        vertical-align: top;\n",
       "    }\n",
       "\n",
       "    .dataframe thead th {\n",
       "        text-align: right;\n",
       "    }\n",
       "</style>\n",
       "<table border=\"1\" class=\"dataframe\">\n",
       "  <thead>\n",
       "    <tr style=\"text-align: right;\">\n",
       "      <th></th>\n",
       "      <th>Novelty Preference</th>\n",
       "      <th>Experiment</th>\n",
       "    </tr>\n",
       "  </thead>\n",
       "  <tbody>\n",
       "    <tr>\n",
       "      <td>0</td>\n",
       "      <td>-0.086655</td>\n",
       "      <td>Test</td>\n",
       "    </tr>\n",
       "    <tr>\n",
       "      <td>1</td>\n",
       "      <td>0.269248</td>\n",
       "      <td>Test</td>\n",
       "    </tr>\n",
       "    <tr>\n",
       "      <td>2</td>\n",
       "      <td>-0.318818</td>\n",
       "      <td>Test</td>\n",
       "    </tr>\n",
       "    <tr>\n",
       "      <td>3</td>\n",
       "      <td>-0.470432</td>\n",
       "      <td>Test</td>\n",
       "    </tr>\n",
       "    <tr>\n",
       "      <td>4</td>\n",
       "      <td>0.017544</td>\n",
       "      <td>Test</td>\n",
       "    </tr>\n",
       "    <tr>\n",
       "      <td>5</td>\n",
       "      <td>0.451441</td>\n",
       "      <td>Test</td>\n",
       "    </tr>\n",
       "    <tr>\n",
       "      <td>6</td>\n",
       "      <td>0.865285</td>\n",
       "      <td>Test</td>\n",
       "    </tr>\n",
       "    <tr>\n",
       "      <td>7</td>\n",
       "      <td>0.351617</td>\n",
       "      <td>Test</td>\n",
       "    </tr>\n",
       "    <tr>\n",
       "      <td>8</td>\n",
       "      <td>0.433636</td>\n",
       "      <td>Test</td>\n",
       "    </tr>\n",
       "    <tr>\n",
       "      <td>9</td>\n",
       "      <td>-0.311360</td>\n",
       "      <td>Test</td>\n",
       "    </tr>\n",
       "    <tr>\n",
       "      <td>10</td>\n",
       "      <td>1.000000</td>\n",
       "      <td>Test</td>\n",
       "    </tr>\n",
       "    <tr>\n",
       "      <td>11</td>\n",
       "      <td>1.000000</td>\n",
       "      <td>Test</td>\n",
       "    </tr>\n",
       "    <tr>\n",
       "      <td>12</td>\n",
       "      <td>0.221735</td>\n",
       "      <td>Test</td>\n",
       "    </tr>\n",
       "    <tr>\n",
       "      <td>13</td>\n",
       "      <td>0.187546</td>\n",
       "      <td>Test</td>\n",
       "    </tr>\n",
       "    <tr>\n",
       "      <td>14</td>\n",
       "      <td>0.418583</td>\n",
       "      <td>Test</td>\n",
       "    </tr>\n",
       "    <tr>\n",
       "      <td>15</td>\n",
       "      <td>0.304008</td>\n",
       "      <td>Test</td>\n",
       "    </tr>\n",
       "    <tr>\n",
       "      <td>16</td>\n",
       "      <td>0.340193</td>\n",
       "      <td>Test</td>\n",
       "    </tr>\n",
       "    <tr>\n",
       "      <td>17</td>\n",
       "      <td>0.037359</td>\n",
       "      <td>Test</td>\n",
       "    </tr>\n",
       "    <tr>\n",
       "      <td>18</td>\n",
       "      <td>0.664683</td>\n",
       "      <td>Test</td>\n",
       "    </tr>\n",
       "    <tr>\n",
       "      <td>19</td>\n",
       "      <td>0.495935</td>\n",
       "      <td>Test</td>\n",
       "    </tr>\n",
       "    <tr>\n",
       "      <td>20</td>\n",
       "      <td>0.466867</td>\n",
       "      <td>Test</td>\n",
       "    </tr>\n",
       "    <tr>\n",
       "      <td>21</td>\n",
       "      <td>-0.264425</td>\n",
       "      <td>Test</td>\n",
       "    </tr>\n",
       "    <tr>\n",
       "      <td>22</td>\n",
       "      <td>0.192508</td>\n",
       "      <td>Test</td>\n",
       "    </tr>\n",
       "    <tr>\n",
       "      <td>23</td>\n",
       "      <td>-0.063315</td>\n",
       "      <td>Test</td>\n",
       "    </tr>\n",
       "    <tr>\n",
       "      <td>24</td>\n",
       "      <td>0.045050</td>\n",
       "      <td>Test</td>\n",
       "    </tr>\n",
       "    <tr>\n",
       "      <td>25</td>\n",
       "      <td>-0.174713</td>\n",
       "      <td>Test</td>\n",
       "    </tr>\n",
       "    <tr>\n",
       "      <td>26</td>\n",
       "      <td>0.390397</td>\n",
       "      <td>Familiarization</td>\n",
       "    </tr>\n",
       "    <tr>\n",
       "      <td>27</td>\n",
       "      <td>-0.012131</td>\n",
       "      <td>Familiarization</td>\n",
       "    </tr>\n",
       "    <tr>\n",
       "      <td>28</td>\n",
       "      <td>0.741182</td>\n",
       "      <td>Familiarization</td>\n",
       "    </tr>\n",
       "    <tr>\n",
       "      <td>29</td>\n",
       "      <td>0.088850</td>\n",
       "      <td>Familiarization</td>\n",
       "    </tr>\n",
       "    <tr>\n",
       "      <td>30</td>\n",
       "      <td>-0.283249</td>\n",
       "      <td>Familiarization</td>\n",
       "    </tr>\n",
       "    <tr>\n",
       "      <td>31</td>\n",
       "      <td>0.244703</td>\n",
       "      <td>Familiarization</td>\n",
       "    </tr>\n",
       "    <tr>\n",
       "      <td>32</td>\n",
       "      <td>0.024484</td>\n",
       "      <td>Familiarization</td>\n",
       "    </tr>\n",
       "    <tr>\n",
       "      <td>33</td>\n",
       "      <td>0.497942</td>\n",
       "      <td>Familiarization</td>\n",
       "    </tr>\n",
       "    <tr>\n",
       "      <td>34</td>\n",
       "      <td>0.420720</td>\n",
       "      <td>Familiarization</td>\n",
       "    </tr>\n",
       "    <tr>\n",
       "      <td>35</td>\n",
       "      <td>-0.508397</td>\n",
       "      <td>Familiarization</td>\n",
       "    </tr>\n",
       "    <tr>\n",
       "      <td>36</td>\n",
       "      <td>0.118233</td>\n",
       "      <td>Familiarization</td>\n",
       "    </tr>\n",
       "    <tr>\n",
       "      <td>37</td>\n",
       "      <td>0.607981</td>\n",
       "      <td>Familiarization</td>\n",
       "    </tr>\n",
       "    <tr>\n",
       "      <td>38</td>\n",
       "      <td>-0.474394</td>\n",
       "      <td>Familiarization</td>\n",
       "    </tr>\n",
       "    <tr>\n",
       "      <td>39</td>\n",
       "      <td>-0.485534</td>\n",
       "      <td>Familiarization</td>\n",
       "    </tr>\n",
       "    <tr>\n",
       "      <td>40</td>\n",
       "      <td>0.030796</td>\n",
       "      <td>Familiarization</td>\n",
       "    </tr>\n",
       "    <tr>\n",
       "      <td>41</td>\n",
       "      <td>-0.084693</td>\n",
       "      <td>Familiarization</td>\n",
       "    </tr>\n",
       "    <tr>\n",
       "      <td>42</td>\n",
       "      <td>0.552595</td>\n",
       "      <td>Familiarization</td>\n",
       "    </tr>\n",
       "    <tr>\n",
       "      <td>43</td>\n",
       "      <td>-0.182441</td>\n",
       "      <td>Familiarization</td>\n",
       "    </tr>\n",
       "    <tr>\n",
       "      <td>44</td>\n",
       "      <td>0.605614</td>\n",
       "      <td>Familiarization</td>\n",
       "    </tr>\n",
       "    <tr>\n",
       "      <td>45</td>\n",
       "      <td>0.143213</td>\n",
       "      <td>Familiarization</td>\n",
       "    </tr>\n",
       "    <tr>\n",
       "      <td>46</td>\n",
       "      <td>-0.447166</td>\n",
       "      <td>Familiarization</td>\n",
       "    </tr>\n",
       "    <tr>\n",
       "      <td>47</td>\n",
       "      <td>-0.075388</td>\n",
       "      <td>Familiarization</td>\n",
       "    </tr>\n",
       "    <tr>\n",
       "      <td>48</td>\n",
       "      <td>0.361396</td>\n",
       "      <td>Familiarization</td>\n",
       "    </tr>\n",
       "    <tr>\n",
       "      <td>49</td>\n",
       "      <td>0.704811</td>\n",
       "      <td>Familiarization</td>\n",
       "    </tr>\n",
       "    <tr>\n",
       "      <td>50</td>\n",
       "      <td>0.672462</td>\n",
       "      <td>Familiarization</td>\n",
       "    </tr>\n",
       "    <tr>\n",
       "      <td>51</td>\n",
       "      <td>-0.513636</td>\n",
       "      <td>Familiarization</td>\n",
       "    </tr>\n",
       "  </tbody>\n",
       "</table>\n",
       "</div>"
      ],
      "text/plain": [
       "    Novelty Preference       Experiment\n",
       "0            -0.086655             Test\n",
       "1             0.269248             Test\n",
       "2            -0.318818             Test\n",
       "3            -0.470432             Test\n",
       "4             0.017544             Test\n",
       "5             0.451441             Test\n",
       "6             0.865285             Test\n",
       "7             0.351617             Test\n",
       "8             0.433636             Test\n",
       "9            -0.311360             Test\n",
       "10            1.000000             Test\n",
       "11            1.000000             Test\n",
       "12            0.221735             Test\n",
       "13            0.187546             Test\n",
       "14            0.418583             Test\n",
       "15            0.304008             Test\n",
       "16            0.340193             Test\n",
       "17            0.037359             Test\n",
       "18            0.664683             Test\n",
       "19            0.495935             Test\n",
       "20            0.466867             Test\n",
       "21           -0.264425             Test\n",
       "22            0.192508             Test\n",
       "23           -0.063315             Test\n",
       "24            0.045050             Test\n",
       "25           -0.174713             Test\n",
       "26            0.390397  Familiarization\n",
       "27           -0.012131  Familiarization\n",
       "28            0.741182  Familiarization\n",
       "29            0.088850  Familiarization\n",
       "30           -0.283249  Familiarization\n",
       "31            0.244703  Familiarization\n",
       "32            0.024484  Familiarization\n",
       "33            0.497942  Familiarization\n",
       "34            0.420720  Familiarization\n",
       "35           -0.508397  Familiarization\n",
       "36            0.118233  Familiarization\n",
       "37            0.607981  Familiarization\n",
       "38           -0.474394  Familiarization\n",
       "39           -0.485534  Familiarization\n",
       "40            0.030796  Familiarization\n",
       "41           -0.084693  Familiarization\n",
       "42            0.552595  Familiarization\n",
       "43           -0.182441  Familiarization\n",
       "44            0.605614  Familiarization\n",
       "45            0.143213  Familiarization\n",
       "46           -0.447166  Familiarization\n",
       "47           -0.075388  Familiarization\n",
       "48            0.361396  Familiarization\n",
       "49            0.704811  Familiarization\n",
       "50            0.672462  Familiarization\n",
       "51           -0.513636  Familiarization"
      ]
     },
     "execution_count": 83,
     "metadata": {},
     "output_type": "execute_result"
    }
   ],
   "source": [
    "noveltyPref = np.append(plotMeTest,plotMeCtrl)\n",
    "\n",
    "experimentType = np.array([\"Test\",\"Test\",\"Test\",\"Test\",\"Test\",\"Test\",\"Test\",\"Test\",\"Test\",\"Test\",\"Test\",\"Test\",\"Test\",\"Test\",\"Test\",\"Test\",\"Test\",\"Test\",\"Test\",\"Test\",\"Test\",\"Test\",\"Test\",\"Test\",\"Test\",\"Test\",\"Familiarization\",\"Familiarization\",\"Familiarization\",\"Familiarization\",\"Familiarization\",\"Familiarization\",\"Familiarization\",\"Familiarization\",\"Familiarization\",\"Familiarization\",\"Familiarization\",\"Familiarization\",\"Familiarization\",\"Familiarization\",\"Familiarization\",\"Familiarization\",\"Familiarization\",\"Familiarization\",\"Familiarization\",\"Familiarization\",\"Familiarization\",\"Familiarization\",\"Familiarization\",\"Familiarization\",\"Familiarization\",\"Familiarization\"])\n",
    "\n",
    "noveltyPref = pd.DataFrame(data=np.asarray([noveltyPref,experimentType]).T,columns=['Novelty Preference','Experiment'])\n",
    "noveltyPref = noveltyPref.astype({\"Novelty Preference\":plotMeTest.dtype})\n",
    "noveltyPref\n",
    "\n"
   ]
  },
  {
   "cell_type": "code",
   "execution_count": 84,
   "metadata": {},
   "outputs": [
    {
     "data": {
      "text/html": [
       "<div>\n",
       "<style scoped>\n",
       "    .dataframe tbody tr th:only-of-type {\n",
       "        vertical-align: middle;\n",
       "    }\n",
       "\n",
       "    .dataframe tbody tr th {\n",
       "        vertical-align: top;\n",
       "    }\n",
       "\n",
       "    .dataframe thead th {\n",
       "        text-align: right;\n",
       "    }\n",
       "</style>\n",
       "<table border=\"1\" class=\"dataframe\">\n",
       "  <thead>\n",
       "    <tr style=\"text-align: right;\">\n",
       "      <th></th>\n",
       "      <th>Shay Novelty Preference</th>\n",
       "      <th>Shay Experiment</th>\n",
       "    </tr>\n",
       "  </thead>\n",
       "  <tbody>\n",
       "    <tr>\n",
       "      <td>0</td>\n",
       "      <td>0.221735</td>\n",
       "      <td>Test</td>\n",
       "    </tr>\n",
       "    <tr>\n",
       "      <td>1</td>\n",
       "      <td>0.187546</td>\n",
       "      <td>Test</td>\n",
       "    </tr>\n",
       "    <tr>\n",
       "      <td>2</td>\n",
       "      <td>0.418583</td>\n",
       "      <td>Test</td>\n",
       "    </tr>\n",
       "    <tr>\n",
       "      <td>3</td>\n",
       "      <td>0.304008</td>\n",
       "      <td>Test</td>\n",
       "    </tr>\n",
       "    <tr>\n",
       "      <td>4</td>\n",
       "      <td>0.340193</td>\n",
       "      <td>Test</td>\n",
       "    </tr>\n",
       "    <tr>\n",
       "      <td>5</td>\n",
       "      <td>0.037359</td>\n",
       "      <td>Test</td>\n",
       "    </tr>\n",
       "    <tr>\n",
       "      <td>6</td>\n",
       "      <td>0.664683</td>\n",
       "      <td>Test</td>\n",
       "    </tr>\n",
       "    <tr>\n",
       "      <td>7</td>\n",
       "      <td>0.495935</td>\n",
       "      <td>Test</td>\n",
       "    </tr>\n",
       "    <tr>\n",
       "      <td>8</td>\n",
       "      <td>0.466867</td>\n",
       "      <td>Test</td>\n",
       "    </tr>\n",
       "    <tr>\n",
       "      <td>9</td>\n",
       "      <td>-0.264425</td>\n",
       "      <td>Test</td>\n",
       "    </tr>\n",
       "    <tr>\n",
       "      <td>10</td>\n",
       "      <td>0.192508</td>\n",
       "      <td>Test</td>\n",
       "    </tr>\n",
       "    <tr>\n",
       "      <td>11</td>\n",
       "      <td>-0.063315</td>\n",
       "      <td>Test</td>\n",
       "    </tr>\n",
       "    <tr>\n",
       "      <td>12</td>\n",
       "      <td>0.045050</td>\n",
       "      <td>Test</td>\n",
       "    </tr>\n",
       "    <tr>\n",
       "      <td>13</td>\n",
       "      <td>-0.174713</td>\n",
       "      <td>Test</td>\n",
       "    </tr>\n",
       "    <tr>\n",
       "      <td>14</td>\n",
       "      <td>-0.474394</td>\n",
       "      <td>Familiarization</td>\n",
       "    </tr>\n",
       "    <tr>\n",
       "      <td>15</td>\n",
       "      <td>-0.485534</td>\n",
       "      <td>Familiarization</td>\n",
       "    </tr>\n",
       "    <tr>\n",
       "      <td>16</td>\n",
       "      <td>0.030796</td>\n",
       "      <td>Familiarization</td>\n",
       "    </tr>\n",
       "    <tr>\n",
       "      <td>17</td>\n",
       "      <td>-0.084693</td>\n",
       "      <td>Familiarization</td>\n",
       "    </tr>\n",
       "    <tr>\n",
       "      <td>18</td>\n",
       "      <td>0.552595</td>\n",
       "      <td>Familiarization</td>\n",
       "    </tr>\n",
       "    <tr>\n",
       "      <td>19</td>\n",
       "      <td>-0.182441</td>\n",
       "      <td>Familiarization</td>\n",
       "    </tr>\n",
       "    <tr>\n",
       "      <td>20</td>\n",
       "      <td>0.605614</td>\n",
       "      <td>Familiarization</td>\n",
       "    </tr>\n",
       "    <tr>\n",
       "      <td>21</td>\n",
       "      <td>0.143213</td>\n",
       "      <td>Familiarization</td>\n",
       "    </tr>\n",
       "    <tr>\n",
       "      <td>22</td>\n",
       "      <td>-0.447166</td>\n",
       "      <td>Familiarization</td>\n",
       "    </tr>\n",
       "    <tr>\n",
       "      <td>23</td>\n",
       "      <td>-0.075388</td>\n",
       "      <td>Familiarization</td>\n",
       "    </tr>\n",
       "    <tr>\n",
       "      <td>24</td>\n",
       "      <td>0.361396</td>\n",
       "      <td>Familiarization</td>\n",
       "    </tr>\n",
       "    <tr>\n",
       "      <td>25</td>\n",
       "      <td>0.704811</td>\n",
       "      <td>Familiarization</td>\n",
       "    </tr>\n",
       "    <tr>\n",
       "      <td>26</td>\n",
       "      <td>0.672462</td>\n",
       "      <td>Familiarization</td>\n",
       "    </tr>\n",
       "    <tr>\n",
       "      <td>27</td>\n",
       "      <td>-0.513636</td>\n",
       "      <td>Familiarization</td>\n",
       "    </tr>\n",
       "  </tbody>\n",
       "</table>\n",
       "</div>"
      ],
      "text/plain": [
       "    Shay Novelty Preference  Shay Experiment\n",
       "0                  0.221735             Test\n",
       "1                  0.187546             Test\n",
       "2                  0.418583             Test\n",
       "3                  0.304008             Test\n",
       "4                  0.340193             Test\n",
       "5                  0.037359             Test\n",
       "6                  0.664683             Test\n",
       "7                  0.495935             Test\n",
       "8                  0.466867             Test\n",
       "9                 -0.264425             Test\n",
       "10                 0.192508             Test\n",
       "11                -0.063315             Test\n",
       "12                 0.045050             Test\n",
       "13                -0.174713             Test\n",
       "14                -0.474394  Familiarization\n",
       "15                -0.485534  Familiarization\n",
       "16                 0.030796  Familiarization\n",
       "17                -0.084693  Familiarization\n",
       "18                 0.552595  Familiarization\n",
       "19                -0.182441  Familiarization\n",
       "20                 0.605614  Familiarization\n",
       "21                 0.143213  Familiarization\n",
       "22                -0.447166  Familiarization\n",
       "23                -0.075388  Familiarization\n",
       "24                 0.361396  Familiarization\n",
       "25                 0.704811  Familiarization\n",
       "26                 0.672462  Familiarization\n",
       "27                -0.513636  Familiarization"
      ]
     },
     "execution_count": 84,
     "metadata": {},
     "output_type": "execute_result"
    }
   ],
   "source": [
    "jimnoveltyPref = np.append(plotMejimTest, plotMejimCtrl)\n",
    "shaynoveltyPref = np.append(plotMeshayTest, plotMeshayCtrl)\n",
    "\n",
    "jimexperimentType = np.array([\"Test\",\"Test\",\"Test\",\"Test\",\"Test\",\"Test\",\"Test\",\"Test\",\"Test\",\"Test\",\"Test\",\"Test\",\"Familiarization\",\"Familiarization\",\"Familiarization\",\"Familiarization\",\"Familiarization\",\"Familiarization\",\"Familiarization\",\"Familiarization\",\"Familiarization\",\"Familiarization\",\"Familiarization\",\"Familiarization\"])\n",
    "shayexperimentType = np.array([\"Test\",\"Test\",\"Test\",\"Test\",\"Test\",\"Test\",\"Test\",\"Test\",\"Test\",\"Test\",\"Test\",\"Test\",\"Test\",\"Test\",\"Familiarization\",\"Familiarization\",\"Familiarization\",\"Familiarization\",\"Familiarization\",\"Familiarization\",\"Familiarization\",\"Familiarization\",\"Familiarization\",\"Familiarization\",\"Familiarization\",\"Familiarization\",\"Familiarization\",\"Familiarization\"])\n",
    "\n",
    "jimnoveltyPref = pd.DataFrame(data=np.asarray([jimnoveltyPref,jimexperimentType]).T,columns=['Jim Novelty Preference','Jim Experiment'])\n",
    "jimnoveltyPref = jimnoveltyPref.astype({\"Jim Novelty Preference\":plotMejimTest.dtype})\n",
    "jimnoveltyPref\n",
    "\n",
    "shaynoveltyPref = pd.DataFrame(data=np.asarray([shaynoveltyPref,shayexperimentType]).T,columns=['Shay Novelty Preference','Shay Experiment'])\n",
    "shaynoveltyPref = shaynoveltyPref.astype({\"Shay Novelty Preference\":plotMeshayTest.dtype})\n",
    "shaynoveltyPref"
   ]
  },
  {
   "cell_type": "code",
   "execution_count": 85,
   "metadata": {},
   "outputs": [],
   "source": [
    "# Shay's plot settings\n",
    "npl.setup()\n",
    "npl.set_palette(npl.colors.cows)\n",
    "npl.setup(font='Universalis ADF Std', font_scale=2, style='white',\\\n",
    "         rc=({'figure.figsize': (12, 6), 'font.size': 18, 'axes.labelsize': 25, \\\n",
    "             'axes.titlesize':33, 'legend.fontsize': 20, 'ytick.labelsize': 10, 'xtick.labelsize': 20}))\n",
    "%matplotlib inline "
   ]
  },
  {
   "cell_type": "code",
   "execution_count": 86,
   "metadata": {},
   "outputs": [
    {
     "data": {
      "text/plain": [
       "<matplotlib.axes._subplots.AxesSubplot at 0x1c1f9e9210>"
      ]
     },
     "execution_count": 86,
     "metadata": {},
     "output_type": "execute_result"
    },
    {
     "data": {
      "image/png": "[encoded data removed]",
      "text/plain": [
       "<Figure size 432x288 with 1 Axes>"
      ]
     },
     "metadata": {
      "needs_background": "light"
     },
     "output_type": "display_data"
    }
   ],
   "source": [
    "sns.barplot(x=\"Experiment\", y=\"Novelty Preference\", data=noveltyPref, capsize=.1, ci=\"sd\")\n",
    "sns.swarmplot(x=\"Experiment\", y=\"Novelty Preference\", data=noveltyPref, color=\"0\", alpha=.5)\n"
   ]
  },
  {
   "cell_type": "code",
   "execution_count": 87,
   "metadata": {},
   "outputs": [
    {
     "data": {
      "text/plain": [
       "<matplotlib.axes._subplots.AxesSubplot at 0x1c1fc68cd0>"
      ]
     },
     "execution_count": 87,
     "metadata": {},
     "output_type": "execute_result"
    },
    {
     "data": {
      "image/png": "[encoded data removed]",
      "text/plain": [
       "<Figure size 432x288 with 1 Axes>"
      ]
     },
     "metadata": {
      "needs_background": "light"
     },
     "output_type": "display_data"
    }
   ],
   "source": [
    "sns.barplot(x=\"Jim Experiment\", y=\"Jim Novelty Preference\", data=jimnoveltyPref, capsize=.1, ci=\"sd\")\n",
    "sns.swarmplot(x=\"Jim Experiment\", y=\"Jim Novelty Preference\", data=jimnoveltyPref, color=\"0\", alpha=.5)"
   ]
  },
  {
   "cell_type": "code",
   "execution_count": 88,
   "metadata": {},
   "outputs": [
    {
     "data": {
      "text/plain": [
       "<matplotlib.axes._subplots.AxesSubplot at 0x1c1fe17a90>"
      ]
     },
     "execution_count": 88,
     "metadata": {},
     "output_type": "execute_result"
    },
    {
     "data": {
      "image/png": "[encoded data removed]",
      "text/plain": [
       "<Figure size 432x288 with 1 Axes>"
      ]
     },
     "metadata": {
      "needs_background": "light"
     },
     "output_type": "display_data"
    }
   ],
   "source": [
    "sns.barplot(x=\"Shay Experiment\", y=\"Shay Novelty Preference\", data=shaynoveltyPref, capsize=.1, ci=\"sd\")\n",
    "sns.swarmplot(x=\"Shay Experiment\", y=\"Shay Novelty Preference\", data=shaynoveltyPref, color=\"0\", alpha=.5)"
   ]
  },
  {
   "cell_type": "code",
   "execution_count": null,
   "metadata": {},
   "outputs": [],
   "source": []
  }
 ],
 "metadata": {
  "kernelspec": {
   "display_name": "Python 3",
   "language": "python",
   "name": "python3"
  },
  "language_info": {
   "codemirror_mode": {
    "name": "ipython",
    "version": 3
   },
   "file_extension": ".py",
   "mimetype": "text/x-python",
   "name": "python",
   "nbconvert_exporter": "python",
   "pygments_lexer": "ipython3",
   "version": "3.7.4"
  }
 },
 "nbformat": 4,
 "nbformat_minor": 4
}
